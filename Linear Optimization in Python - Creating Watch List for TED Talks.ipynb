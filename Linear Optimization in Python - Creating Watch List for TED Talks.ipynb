{
 "cells": [
  {
   "cell_type": "markdown",
   "metadata": {},
   "source": [
    "## Linear Programing In Python : Create Watch List for TED Videos"
   ]
  },
  {
   "cell_type": "markdown",
   "metadata": {},
   "source": [
    "This iPython Notebook is an Example of Constructing a Linear Program in Python with PULP module.\n",
    "\n",
    "----------\n",
    "**Problem Formulation:**\n",
    "TED (www.ted.com) is a nonprofit devoted to spreading ideas, usually in the form of short, powerful talks (18 minutes or less). TED began in 1984 as a conference where Technology, Entertainment and Design converged, and today covers almost all topics — from science to business to global issues — in more than 100 languages.\n",
    "\n",
    "Many of us would like to listen to popular talks in a given period. However, there are typically constraints on how much time one can allocate and how many talks can be assimilated. This notebook applies Linear Optimization techniques in Python to answer the question of \"What should your TED talks viewing list so that you can cover the most popular talks given the constraints of time & number of talks\" \n",
    "\n",
    "----------\n",
    "> - Objective: Maximize the Number of Popular Talks to listen to\n",
    "> - LP Form: Maximization\n",
    "> - Decision Variables: Binary Variables indicating whether the talk is viewed or not.\n",
    "> - Constraints: Limited Number of Time available to watch videos in a month"
   ]
  },
  {
   "cell_type": "markdown",
   "metadata": {},
   "source": [
    "** Step 1: Import Relevant Packages **"
   ]
  },
  {
   "cell_type": "code",
   "execution_count": 1,
   "metadata": {
    "collapsed": true
   },
   "outputs": [],
   "source": [
    "from pulp import *\n",
    "import numpy as np\n",
    "import pandas as pd\n",
    "import re \n",
    "import matplotlib.pyplot as plt\n",
    "from IPython.display import Image\n",
    "%matplotlib inline"
   ]
  },
  {
   "cell_type": "markdown",
   "metadata": {},
   "source": [
    "** Step 2: Download the TED talks dataset from Kaggle and read it into pandas dataframe **"
   ]
  },
  {
   "cell_type": "code",
   "execution_count": 2,
   "metadata": {},
   "outputs": [
    {
     "data": {
      "text/html": [
       "<div>\n",
       "<style>\n",
       "    .dataframe thead tr:only-child th {\n",
       "        text-align: right;\n",
       "    }\n",
       "\n",
       "    .dataframe thead th {\n",
       "        text-align: left;\n",
       "    }\n",
       "\n",
       "    .dataframe tbody tr th {\n",
       "        vertical-align: top;\n",
       "    }\n",
       "</style>\n",
       "<table border=\"1\" class=\"dataframe\">\n",
       "  <thead>\n",
       "    <tr style=\"text-align: right;\">\n",
       "      <th></th>\n",
       "      <th>index</th>\n",
       "      <th>name</th>\n",
       "      <th>event</th>\n",
       "      <th>duration</th>\n",
       "      <th>views</th>\n",
       "    </tr>\n",
       "  </thead>\n",
       "  <tbody>\n",
       "    <tr>\n",
       "      <th>0</th>\n",
       "      <td>0</td>\n",
       "      <td>Ken Robinson: Do schools kill creativity?</td>\n",
       "      <td>TED2006</td>\n",
       "      <td>19.4</td>\n",
       "      <td>47227110</td>\n",
       "    </tr>\n",
       "    <tr>\n",
       "      <th>1</th>\n",
       "      <td>1</td>\n",
       "      <td>Al Gore: Averting the climate crisis</td>\n",
       "      <td>TED2006</td>\n",
       "      <td>16.3</td>\n",
       "      <td>3200520</td>\n",
       "    </tr>\n",
       "    <tr>\n",
       "      <th>2</th>\n",
       "      <td>2</td>\n",
       "      <td>David Pogue: Simplicity sells</td>\n",
       "      <td>TED2006</td>\n",
       "      <td>21.4</td>\n",
       "      <td>1636292</td>\n",
       "    </tr>\n",
       "    <tr>\n",
       "      <th>3</th>\n",
       "      <td>3</td>\n",
       "      <td>Majora Carter: Greening the ghetto</td>\n",
       "      <td>TED2006</td>\n",
       "      <td>18.6</td>\n",
       "      <td>1697550</td>\n",
       "    </tr>\n",
       "    <tr>\n",
       "      <th>4</th>\n",
       "      <td>4</td>\n",
       "      <td>Hans Rosling: The best stats you've ever seen</td>\n",
       "      <td>TED2006</td>\n",
       "      <td>19.8</td>\n",
       "      <td>12005869</td>\n",
       "    </tr>\n",
       "  </tbody>\n",
       "</table>\n",
       "</div>"
      ],
      "text/plain": [
       "   index                                           name    event  duration  \\\n",
       "0      0      Ken Robinson: Do schools kill creativity?  TED2006      19.4   \n",
       "1      1           Al Gore: Averting the climate crisis  TED2006      16.3   \n",
       "2      2                  David Pogue: Simplicity sells  TED2006      21.4   \n",
       "3      3             Majora Carter: Greening the ghetto  TED2006      18.6   \n",
       "4      4  Hans Rosling: The best stats you've ever seen  TED2006      19.8   \n",
       "\n",
       "      views  \n",
       "0  47227110  \n",
       "1   3200520  \n",
       "2   1636292  \n",
       "3   1697550  \n",
       "4  12005869  "
      ]
     },
     "execution_count": 2,
     "metadata": {},
     "output_type": "execute_result"
    }
   ],
   "source": [
    "# Download the dataset from: https://www.kaggle.com/rounakbanik/ted-talks\n",
    "\n",
    "# Read the dataset into pandas dataframe, convert duration from seconds to minutes\n",
    "ted = pd.read_csv('ted_main.csv',encoding = \"ISO-8859-1\")\n",
    "ted['duration'] = ted['duration']/60\n",
    "ted=ted.round({'duration':1})\n",
    "\n",
    "# Select subset of columns & rows (if required)\n",
    "#data = ted.sample(n=1000)  # 'n' can be changed as required\n",
    "data = ted\n",
    "selected_cols = ['name','event','duration','views']\n",
    "data = data[selected_cols]\n",
    "data.reset_index(inplace=True)\n",
    "data.head()"
   ]
  },
  {
   "cell_type": "markdown",
   "metadata": {},
   "source": [
    ">The resulting dataset contains:\n",
    "> - Index of the talk\n",
    "> - Name of the talk\n",
    "> - TED Event Name\n",
    "> - Talk duration (in minutes)\n",
    "> - Number of Views (Proxy for Popularity of the talk)"
   ]
  },
  {
   "cell_type": "markdown",
   "metadata": {},
   "source": [
    "** Step 3: Setting Up LP Problem:**\n",
    "\n",
    "> Define The LP Object\n",
    "\n",
    "> The *prob* variable is created to contain the formulation, and the usual parameters are passed into LpProblem."
   ]
  },
  {
   "cell_type": "code",
   "execution_count": 3,
   "metadata": {
    "collapsed": true
   },
   "outputs": [],
   "source": [
    "# create the LP object, \n",
    "# set up as a maximization problem --> since we want to maximize the number of TED talks to watch\n",
    "prob = pulp.LpProblem('WatchingTEDTalks', pulp.LpMaximize)"
   ]
  },
  {
   "cell_type": "markdown",
   "metadata": {},
   "source": [
    "> Step 3.1: Create Decision Variables:"
   ]
  },
  {
   "cell_type": "code",
   "execution_count": 4,
   "metadata": {},
   "outputs": [
    {
     "name": "stdout",
     "output_type": "stream",
     "text": [
      "Total number of decision_variables: 2550\n"
     ]
    }
   ],
   "source": [
    "#create decision - yes or no to watch the talk?\n",
    "decision_variables = []\n",
    "for rownum, row in data.iterrows():\n",
    "    #variable = str('x' + str(rownum))\n",
    "    variable = str('x' + str(row['index']))\n",
    "    variable = pulp.LpVariable(str(variable), lowBound = 0, upBound = 1, cat= 'Integer') #make variables binary\n",
    "    decision_variables.append(variable)\n",
    "\n",
    "print (\"Total number of decision_variables: \" + str(len(decision_variables)))"
   ]
  },
  {
   "cell_type": "markdown",
   "metadata": {},
   "source": [
    "> Step 3.2: Define Objective Function: (*Maximizing the number of views*)\n",
    "\n",
    "> The variable prob now begins collecting problem data with the += operator. The objective function is logically entered first, with an important comma , at the end of the statement and a short string explaining what this objective function is:"
   ]
  },
  {
   "cell_type": "code",
   "execution_count": 5,
   "metadata": {
    "collapsed": true
   },
   "outputs": [],
   "source": [
    "# Create Optimization Function\n",
    "total_views = \"\"\n",
    "for rownum, row in data.iterrows():\n",
    "    for i, talk in enumerate(decision_variables):\n",
    "        if rownum == i:\n",
    "            formula = row['views']*talk\n",
    "            total_views += formula\n",
    "\n",
    "prob += total_views\n",
    "#print (\"Optimization function: \" + str(total_views))\t"
   ]
  },
  {
   "cell_type": "markdown",
   "metadata": {},
   "source": [
    "> Step 3.3:Define Constrains:(*We have a Fixed Amount of time to view the talks and only so many talks can be viewed*)"
   ]
  },
  {
   "cell_type": "code",
   "execution_count": 6,
   "metadata": {
    "collapsed": true
   },
   "outputs": [],
   "source": [
    "# Constraints\n",
    "total_time_available_for_talks = 10*60 # Total time available is 10 hours. Converted to minutes\n",
    "total_talks_can_watch = 25 # Don't want an overload of information"
   ]
  },
  {
   "cell_type": "code",
   "execution_count": 7,
   "metadata": {
    "collapsed": true
   },
   "outputs": [],
   "source": [
    "# Create Constraint 1 - Time for talks\n",
    "total_time_talks = \"\"\n",
    "for rownum, row in data.iterrows():\n",
    "\tfor i, talk in enumerate(decision_variables):\n",
    "\t\tif rownum == i:\n",
    "\t\t\tformula = row['duration']*talk\n",
    "\t\t\ttotal_time_talks += formula\n",
    "\n",
    "prob += (total_time_talks == total_time_available_for_talks)"
   ]
  },
  {
   "cell_type": "code",
   "execution_count": 8,
   "metadata": {
    "collapsed": true
   },
   "outputs": [],
   "source": [
    "# Create Constraint 2 - Number of talks\n",
    "total_talks = \"\"\n",
    "\n",
    "for rownum, row in data.iterrows():\n",
    "\tfor i, talk in enumerate(decision_variables):\n",
    "\t\tif rownum == i:\n",
    "\t\t\tformula = talk\n",
    "\t\t\ttotal_talks += formula\n",
    "\n",
    "prob += (total_talks == total_talks_can_watch)"
   ]
  },
  {
   "cell_type": "markdown",
   "metadata": {},
   "source": [
    ">Step 3.4:The Final Format"
   ]
  },
  {
   "cell_type": "code",
   "execution_count": 9,
   "metadata": {},
   "outputs": [],
   "source": [
    "#print(prob)\n",
    "prob.writeLP(\"WatchingTEDTalks.lp\" )"
   ]
  },
  {
   "cell_type": "markdown",
   "metadata": {},
   "source": [
    "> Step 3.5: The Actual Optimization"
   ]
  },
  {
   "cell_type": "code",
   "execution_count": 10,
   "metadata": {},
   "outputs": [
    {
     "name": "stdout",
     "output_type": "stream",
     "text": [
      "Status: Optimal\n",
      "Optimal Solution to the problem:  470591400.0\n"
     ]
    }
   ],
   "source": [
    "optimization_result = prob.solve()\n",
    "\n",
    "assert optimization_result == pulp.LpStatusOptimal\n",
    "print(\"Status:\", LpStatus[prob.status])\n",
    "print(\"Optimal Solution to the problem: \", value(prob.objective))\n",
    "#print (\"Individual decision_variables: \")\n",
    "#for v in prob.variables():\n",
    "#\tprint(v.name, \"=\", v.varValue)"
   ]
  },
  {
   "cell_type": "markdown",
   "metadata": {},
   "source": [
    "** Step 4: Convert the optimization results into an interpretable decision making format **"
   ]
  },
  {
   "cell_type": "code",
   "execution_count": 11,
   "metadata": {
    "collapsed": true
   },
   "outputs": [],
   "source": [
    "#reorder results\n",
    "variable_name = []\n",
    "variable_value = []\n",
    "\n",
    "for v in prob.variables():\n",
    "\tvariable_name.append(v.name)\n",
    "\tvariable_value.append(v.varValue)\n",
    "\n",
    "df = pd.DataFrame({'index': variable_name, 'value': variable_value})\n",
    "for rownum, row in df.iterrows():\n",
    "\tvalue = re.findall(r'(\\d+)', row['index'])\n",
    "\tdf.loc[rownum, 'index'] = int(value[0])\n",
    "\n",
    "#df = df.sort_index(by='index')\n",
    "df = df.sort_values(by='index')\n",
    "result = pd.merge(data,df,on='index')\n",
    "result = result[result['value'] == 1].sort_values(by='views',ascending=False)\n",
    "selected_cols_final = ['name','event','duration','views']\n",
    "final_set_of_talks_to_watch = result[selected_cols_final]"
   ]
  },
  {
   "cell_type": "markdown",
   "metadata": {},
   "source": [
    "## The Final List of Talks to Watch"
   ]
  },
  {
   "cell_type": "code",
   "execution_count": 12,
   "metadata": {},
   "outputs": [
    {
     "data": {
      "text/html": [
       "<table border=\"1\" class=\"dataframe\">\n",
       "  <thead>\n",
       "    <tr style=\"text-align: right;\">\n",
       "      <th>name</th>\n",
       "      <th>event</th>\n",
       "      <th>duration</th>\n",
       "      <th>views</th>\n",
       "    </tr>\n",
       "  </thead>\n",
       "  <tbody>\n",
       "    <tr>\n",
       "      <td>Ken Robinson: Do schools kill creativity?</td>\n",
       "      <td>TED2006</td>\n",
       "      <td>19.4</td>\n",
       "      <td>47227110</td>\n",
       "    </tr>\n",
       "    <tr>\n",
       "      <td>Amy Cuddy: Your body language may shape who yo...</td>\n",
       "      <td>TEDGlobal 2012</td>\n",
       "      <td>21.0</td>\n",
       "      <td>43155405</td>\n",
       "    </tr>\n",
       "    <tr>\n",
       "      <td>Simon Sinek: How great leaders inspire action</td>\n",
       "      <td>TEDxPuget Sound</td>\n",
       "      <td>18.1</td>\n",
       "      <td>34309432</td>\n",
       "    </tr>\n",
       "    <tr>\n",
       "      <td>BrenÃ© Brown: The power of vulnerability</td>\n",
       "      <td>TEDxHouston</td>\n",
       "      <td>20.3</td>\n",
       "      <td>31168150</td>\n",
       "    </tr>\n",
       "    <tr>\n",
       "      <td>Mary Roach: 10 things you didn't know about or...</td>\n",
       "      <td>TED2009</td>\n",
       "      <td>16.7</td>\n",
       "      <td>22270883</td>\n",
       "    </tr>\n",
       "    <tr>\n",
       "      <td>Julian Treasure: How to speak so that people w...</td>\n",
       "      <td>TEDGlobal 2013</td>\n",
       "      <td>10.0</td>\n",
       "      <td>21594632</td>\n",
       "    </tr>\n",
       "    <tr>\n",
       "      <td>Jill Bolte Taylor: My stroke of insight</td>\n",
       "      <td>TED2008</td>\n",
       "      <td>18.3</td>\n",
       "      <td>21190883</td>\n",
       "    </tr>\n",
       "    <tr>\n",
       "      <td>Tony Robbins: Why we do what we do</td>\n",
       "      <td>TED2006</td>\n",
       "      <td>21.8</td>\n",
       "      <td>20685401</td>\n",
       "    </tr>\n",
       "    <tr>\n",
       "      <td>James Veitch: This is what happens when you re...</td>\n",
       "      <td>TEDGlobal&gt;Geneva</td>\n",
       "      <td>9.8</td>\n",
       "      <td>20475972</td>\n",
       "    </tr>\n",
       "    <tr>\n",
       "      <td>Cameron Russell: Looks aren't everything. Beli...</td>\n",
       "      <td>TEDxMidAtlantic</td>\n",
       "      <td>9.6</td>\n",
       "      <td>19787465</td>\n",
       "    </tr>\n",
       "    <tr>\n",
       "      <td>Dan Pink: The puzzle of motivation</td>\n",
       "      <td>TEDGlobal 2009</td>\n",
       "      <td>18.6</td>\n",
       "      <td>18830983</td>\n",
       "    </tr>\n",
       "    <tr>\n",
       "      <td>Susan Cain: The power of introverts</td>\n",
       "      <td>TED2012</td>\n",
       "      <td>19.1</td>\n",
       "      <td>17629275</td>\n",
       "    </tr>\n",
       "    <tr>\n",
       "      <td>Pamela Meyer: How to spot a liar</td>\n",
       "      <td>TEDGlobal 2011</td>\n",
       "      <td>18.8</td>\n",
       "      <td>16861578</td>\n",
       "    </tr>\n",
       "    <tr>\n",
       "      <td>Robert Waldinger: What makes a good life? Less...</td>\n",
       "      <td>TEDxBeaconStreet</td>\n",
       "      <td>12.8</td>\n",
       "      <td>16601927</td>\n",
       "    </tr>\n",
       "    <tr>\n",
       "      <td>Shawn Achor: The happy secret to better work</td>\n",
       "      <td>TEDxBloomington</td>\n",
       "      <td>12.3</td>\n",
       "      <td>16209727</td>\n",
       "    </tr>\n",
       "    <tr>\n",
       "      <td>Pranav Mistry: The thrilling potential of Sixt...</td>\n",
       "      <td>TEDIndia 2009</td>\n",
       "      <td>13.8</td>\n",
       "      <td>16097077</td>\n",
       "    </tr>\n",
       "    <tr>\n",
       "      <td>David Blaine: How I held my breath for 17 minutes</td>\n",
       "      <td>TEDMED 2009</td>\n",
       "      <td>20.3</td>\n",
       "      <td>15601385</td>\n",
       "    </tr>\n",
       "    <tr>\n",
       "      <td>Tim Urban: Inside the mind of a master procras...</td>\n",
       "      <td>TED2016</td>\n",
       "      <td>14.0</td>\n",
       "      <td>14745406</td>\n",
       "    </tr>\n",
       "    <tr>\n",
       "      <td>Dan Gilbert: The surprising science of happiness</td>\n",
       "      <td>TED2004</td>\n",
       "      <td>21.3</td>\n",
       "      <td>14689301</td>\n",
       "    </tr>\n",
       "    <tr>\n",
       "      <td>Kelly McGonigal: How to make stress your friend</td>\n",
       "      <td>TEDGlobal 2013</td>\n",
       "      <td>14.5</td>\n",
       "      <td>14566463</td>\n",
       "    </tr>\n",
       "    <tr>\n",
       "      <td>Keith Barry: Brain magic</td>\n",
       "      <td>TED2004</td>\n",
       "      <td>19.8</td>\n",
       "      <td>13327101</td>\n",
       "    </tr>\n",
       "    <tr>\n",
       "      <td>Hans Rosling: The best stats you've ever seen</td>\n",
       "      <td>TED2006</td>\n",
       "      <td>19.8</td>\n",
       "      <td>12005869</td>\n",
       "    </tr>\n",
       "    <tr>\n",
       "      <td>Randy Pausch: Really achieving your childhood ...</td>\n",
       "      <td>Carnegie Mellon University</td>\n",
       "      <td>76.4</td>\n",
       "      <td>564781</td>\n",
       "    </tr>\n",
       "    <tr>\n",
       "      <td>Richard Feynman: Physics is fun to imagine</td>\n",
       "      <td>BBC TV</td>\n",
       "      <td>65.9</td>\n",
       "      <td>521974</td>\n",
       "    </tr>\n",
       "    <tr>\n",
       "      <td>Douglas Adams: Parrots, the universe and every...</td>\n",
       "      <td>University of California</td>\n",
       "      <td>87.6</td>\n",
       "      <td>473220</td>\n",
       "    </tr>\n",
       "  </tbody>\n",
       "</table>"
      ],
      "text/plain": [
       "<IPython.core.display.HTML object>"
      ]
     },
     "metadata": {},
     "output_type": "display_data"
    }
   ],
   "source": [
    "from IPython.display import display, HTML\n",
    "display(HTML(final_set_of_talks_to_watch.to_html(index=False)))"
   ]
  },
  {
   "cell_type": "code",
   "execution_count": null,
   "metadata": {
    "collapsed": true
   },
   "outputs": [],
   "source": []
  }
 ],
 "metadata": {
  "kernelspec": {
   "display_name": "Python [Root]",
   "language": "python",
   "name": "Python [Root]"
  },
  "language_info": {
   "codemirror_mode": {
    "name": "ipython",
    "version": 3
   },
   "file_extension": ".py",
   "mimetype": "text/x-python",
   "name": "python",
   "nbconvert_exporter": "python",
   "pygments_lexer": "ipython3",
   "version": "3.5.2"
  }
 },
 "nbformat": 4,
 "nbformat_minor": 2
}
