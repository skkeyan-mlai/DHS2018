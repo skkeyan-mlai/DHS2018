{
 "cells": [
  {
   "cell_type": "markdown",
   "metadata": {},
   "source": [
    "# Python Basecamp\n",
    "\n",
    "### Karthikeyan Sankaran, 17th June, 2018\n",
    "\n",
    "### End to End ML Pipeline [BigMart Sales]: Notebook 2 - Feature Engineering"
   ]
  },
  {
   "cell_type": "code",
   "execution_count": 99,
   "metadata": {
    "collapsed": true
   },
   "outputs": [],
   "source": [
    "# Import relevant packages & functions\n",
    "\n",
    "import pandas as pd\n",
    "import numpy as np\n",
    "import os\n",
    "from scipy import stats\n",
    "from scipy.stats import mode\n",
    "\n",
    "import missingno as msno\n",
    "from sklearn.preprocessing import MinMaxScaler\n",
    "from sklearn.preprocessing import StandardScaler\n",
    "from sklearn.preprocessing import Normalizer\n",
    "\n",
    "from sklearn.decomposition import PCA, NMF\n",
    "\n",
    "from sklearn.pipeline import Pipeline,FeatureUnion\n",
    "from generic_transformers import *\n",
    "from utility_functions import *\n",
    "\n",
    "import warnings\n",
    "warnings.filterwarnings('ignore')\n",
    "\n",
    "from patsylearn import *\n",
    "from patsylearn import PatsyTransformer\n",
    "\n",
    "from category_encoders import (BackwardDifferenceEncoder,BinaryEncoder,HashingEncoder,HelmertEncoder,\n",
    "                               OneHotEncoder,OrdinalEncoder,SumEncoder,PolynomialEncoder)"
   ]
  },
  {
   "cell_type": "code",
   "execution_count": 100,
   "metadata": {
    "collapsed": true
   },
   "outputs": [],
   "source": [
    "DATA_FOLDER = '../datasets/'\n",
    "train_df      = pd.read_csv(os.path.join(DATA_FOLDER, 'BigMartSales-Training.csv'))\n",
    "test_df       = pd.read_csv(os.path.join(DATA_FOLDER, 'BigMartSales-Testing.csv'))"
   ]
  },
  {
   "cell_type": "code",
   "execution_count": 101,
   "metadata": {},
   "outputs": [
    {
     "name": "stdout",
     "output_type": "stream",
     "text": [
      "<class 'pandas.core.frame.DataFrame'>\n",
      "RangeIndex: 8523 entries, 0 to 8522\n",
      "Data columns (total 12 columns):\n",
      "Item_Identifier              8523 non-null object\n",
      "Item_Weight                  7060 non-null float64\n",
      "Item_Fat_Content             8523 non-null object\n",
      "Item_Visibility              8523 non-null float64\n",
      "Item_Type                    8523 non-null object\n",
      "Item_MRP                     8523 non-null float64\n",
      "Outlet_Identifier            8523 non-null object\n",
      "Outlet_Establishment_Year    8523 non-null int64\n",
      "Outlet_Size                  6113 non-null object\n",
      "Outlet_Location_Type         8523 non-null object\n",
      "Outlet_Type                  8523 non-null object\n",
      "Item_Outlet_Sales            8523 non-null float64\n",
      "dtypes: float64(4), int64(1), object(7)\n",
      "memory usage: 799.1+ KB\n"
     ]
    }
   ],
   "source": [
    "## Peek into the dataset\n",
    "train_df.info()\n",
    "#train_df.head()\n",
    "#train_df.columns\n",
    "#unique_col_values(train_df)\n",
    "#train_df['Item_Fat_Content'].value_counts()\n",
    "#train_df['Item_Fat_Content'].unique()\n",
    "#train_df.describe().T\n",
    "#train_df.columns.tolist()"
   ]
  },
  {
   "cell_type": "code",
   "execution_count": 102,
   "metadata": {},
   "outputs": [
    {
     "data": {
      "text/html": [
       "<div>\n",
       "<style scoped>\n",
       "    .dataframe tbody tr th:only-of-type {\n",
       "        vertical-align: middle;\n",
       "    }\n",
       "\n",
       "    .dataframe tbody tr th {\n",
       "        vertical-align: top;\n",
       "    }\n",
       "\n",
       "    .dataframe thead th {\n",
       "        text-align: right;\n",
       "    }\n",
       "</style>\n",
       "<table border=\"1\" class=\"dataframe\">\n",
       "  <thead>\n",
       "    <tr style=\"text-align: right;\">\n",
       "      <th></th>\n",
       "      <th>Item_Identifier</th>\n",
       "      <th>Item_Weight</th>\n",
       "      <th>Item_Fat_Content</th>\n",
       "      <th>Item_Visibility</th>\n",
       "      <th>Item_Type</th>\n",
       "      <th>Item_MRP</th>\n",
       "      <th>Outlet_Identifier</th>\n",
       "      <th>Outlet_Establishment_Year</th>\n",
       "      <th>Outlet_Size</th>\n",
       "      <th>Outlet_Location_Type</th>\n",
       "      <th>Outlet_Type</th>\n",
       "      <th>Item_Outlet_Sales</th>\n",
       "    </tr>\n",
       "  </thead>\n",
       "  <tbody>\n",
       "    <tr>\n",
       "      <th>0</th>\n",
       "      <td>FDA15</td>\n",
       "      <td>9.30</td>\n",
       "      <td>Low Fat</td>\n",
       "      <td>0.016047</td>\n",
       "      <td>Dairy</td>\n",
       "      <td>249.8092</td>\n",
       "      <td>OUT049</td>\n",
       "      <td>1999</td>\n",
       "      <td>Medium</td>\n",
       "      <td>Tier 1</td>\n",
       "      <td>Supermarket Type1</td>\n",
       "      <td>3735.1380</td>\n",
       "    </tr>\n",
       "    <tr>\n",
       "      <th>1</th>\n",
       "      <td>DRC01</td>\n",
       "      <td>5.92</td>\n",
       "      <td>Regular</td>\n",
       "      <td>0.019278</td>\n",
       "      <td>Soft Drinks</td>\n",
       "      <td>48.2692</td>\n",
       "      <td>OUT018</td>\n",
       "      <td>2009</td>\n",
       "      <td>Medium</td>\n",
       "      <td>Tier 3</td>\n",
       "      <td>Supermarket Type2</td>\n",
       "      <td>443.4228</td>\n",
       "    </tr>\n",
       "    <tr>\n",
       "      <th>2</th>\n",
       "      <td>FDN15</td>\n",
       "      <td>17.50</td>\n",
       "      <td>Low Fat</td>\n",
       "      <td>0.016760</td>\n",
       "      <td>Meat</td>\n",
       "      <td>141.6180</td>\n",
       "      <td>OUT049</td>\n",
       "      <td>1999</td>\n",
       "      <td>Medium</td>\n",
       "      <td>Tier 1</td>\n",
       "      <td>Supermarket Type1</td>\n",
       "      <td>2097.2700</td>\n",
       "    </tr>\n",
       "    <tr>\n",
       "      <th>3</th>\n",
       "      <td>FDX07</td>\n",
       "      <td>19.20</td>\n",
       "      <td>Regular</td>\n",
       "      <td>0.000000</td>\n",
       "      <td>Fruits and Vegetables</td>\n",
       "      <td>182.0950</td>\n",
       "      <td>OUT010</td>\n",
       "      <td>1998</td>\n",
       "      <td>NaN</td>\n",
       "      <td>Tier 3</td>\n",
       "      <td>Grocery Store</td>\n",
       "      <td>732.3800</td>\n",
       "    </tr>\n",
       "    <tr>\n",
       "      <th>4</th>\n",
       "      <td>NCD19</td>\n",
       "      <td>8.93</td>\n",
       "      <td>Low Fat</td>\n",
       "      <td>0.000000</td>\n",
       "      <td>Household</td>\n",
       "      <td>53.8614</td>\n",
       "      <td>OUT013</td>\n",
       "      <td>1987</td>\n",
       "      <td>High</td>\n",
       "      <td>Tier 3</td>\n",
       "      <td>Supermarket Type1</td>\n",
       "      <td>994.7052</td>\n",
       "    </tr>\n",
       "  </tbody>\n",
       "</table>\n",
       "</div>"
      ],
      "text/plain": [
       "  Item_Identifier  Item_Weight Item_Fat_Content  Item_Visibility  \\\n",
       "0           FDA15         9.30          Low Fat         0.016047   \n",
       "1           DRC01         5.92          Regular         0.019278   \n",
       "2           FDN15        17.50          Low Fat         0.016760   \n",
       "3           FDX07        19.20          Regular         0.000000   \n",
       "4           NCD19         8.93          Low Fat         0.000000   \n",
       "\n",
       "               Item_Type  Item_MRP Outlet_Identifier  \\\n",
       "0                  Dairy  249.8092            OUT049   \n",
       "1            Soft Drinks   48.2692            OUT018   \n",
       "2                   Meat  141.6180            OUT049   \n",
       "3  Fruits and Vegetables  182.0950            OUT010   \n",
       "4              Household   53.8614            OUT013   \n",
       "\n",
       "   Outlet_Establishment_Year Outlet_Size Outlet_Location_Type  \\\n",
       "0                       1999      Medium               Tier 1   \n",
       "1                       2009      Medium               Tier 3   \n",
       "2                       1999      Medium               Tier 1   \n",
       "3                       1998         NaN               Tier 3   \n",
       "4                       1987        High               Tier 3   \n",
       "\n",
       "         Outlet_Type  Item_Outlet_Sales  \n",
       "0  Supermarket Type1          3735.1380  \n",
       "1  Supermarket Type2           443.4228  \n",
       "2  Supermarket Type1          2097.2700  \n",
       "3      Grocery Store           732.3800  \n",
       "4  Supermarket Type1           994.7052  "
      ]
     },
     "execution_count": 102,
     "metadata": {},
     "output_type": "execute_result"
    }
   ],
   "source": [
    "train_df.head()"
   ]
  },
  {
   "cell_type": "code",
   "execution_count": 103,
   "metadata": {},
   "outputs": [
    {
     "name": "stdout",
     "output_type": "stream",
     "text": [
      "Index(['Item_Identifier', 'Item_Weight', 'Item_Fat_Content', 'Item_Visibility',\n",
      "       'Item_Type', 'Item_MRP', 'Outlet_Identifier',\n",
      "       'Outlet_Establishment_Year', 'Outlet_Size', 'Outlet_Location_Type',\n",
      "       'Outlet_Type', 'Item_Outlet_Sales'],\n",
      "      dtype='object')\n",
      "12\n"
     ]
    }
   ],
   "source": [
    "raw_features = train_df.columns\n",
    "print(raw_features)\n",
    "print(len(raw_features))"
   ]
  },
  {
   "cell_type": "code",
   "execution_count": 104,
   "metadata": {},
   "outputs": [
    {
     "name": "stdout",
     "output_type": "stream",
     "text": [
      "(8523, 13) (5681, 12) (14204, 13)\n"
     ]
    }
   ],
   "source": [
    "train_df['source']='train'\n",
    "test_df['source']='test'\n",
    "data = pd.concat([train_df, test_df],ignore_index=True)\n",
    "print (train_df.shape, test_df.shape, data.shape)"
   ]
  },
  {
   "cell_type": "markdown",
   "metadata": {},
   "source": [
    "## Feature Engineering"
   ]
  },
  {
   "cell_type": "markdown",
   "metadata": {},
   "source": [
    "** Set 0: Setting up the dataset **"
   ]
  },
  {
   "cell_type": "markdown",
   "metadata": {},
   "source": [
    "** Set 0.1: Setting the target **"
   ]
  },
  {
   "cell_type": "code",
   "execution_count": 105,
   "metadata": {
    "collapsed": true
   },
   "outputs": [],
   "source": [
    "target_df = pd.DataFrame()\n",
    "target_df['Item_Outlet_Sales'] = train_df['Item_Outlet_Sales']\n",
    "target_df['Unit_Sales'] = np.round(train_df['Item_Outlet_Sales'] / train_df['Item_MRP'])"
   ]
  },
  {
   "cell_type": "code",
   "execution_count": 106,
   "metadata": {
    "collapsed": true
   },
   "outputs": [],
   "source": [
    "target_pipe = Pipeline([\n",
    "            ('log',DFFunctionTransformer(np.log1p)),\n",
    "         ])\n",
    "\n",
    "target_cols = target_pipe.fit_transform(target_df)\n",
    "target_cols.rename(columns=lambda x: x + '_log', inplace=True)"
   ]
  },
  {
   "cell_type": "code",
   "execution_count": 107,
   "metadata": {
    "collapsed": true
   },
   "outputs": [],
   "source": [
    "target_df = pd.concat([target_df,target_cols],axis=1)"
   ]
  },
  {
   "cell_type": "code",
   "execution_count": 108,
   "metadata": {},
   "outputs": [
    {
     "data": {
      "text/html": [
       "<div>\n",
       "<style scoped>\n",
       "    .dataframe tbody tr th:only-of-type {\n",
       "        vertical-align: middle;\n",
       "    }\n",
       "\n",
       "    .dataframe tbody tr th {\n",
       "        vertical-align: top;\n",
       "    }\n",
       "\n",
       "    .dataframe thead th {\n",
       "        text-align: right;\n",
       "    }\n",
       "</style>\n",
       "<table border=\"1\" class=\"dataframe\">\n",
       "  <thead>\n",
       "    <tr style=\"text-align: right;\">\n",
       "      <th></th>\n",
       "      <th>Item_Outlet_Sales</th>\n",
       "      <th>Unit_Sales</th>\n",
       "      <th>Item_Outlet_Sales_log</th>\n",
       "      <th>Unit_Sales_log</th>\n",
       "    </tr>\n",
       "  </thead>\n",
       "  <tbody>\n",
       "    <tr>\n",
       "      <th>0</th>\n",
       "      <td>3735.1380</td>\n",
       "      <td>15.0</td>\n",
       "      <td>8.225808</td>\n",
       "      <td>2.772589</td>\n",
       "    </tr>\n",
       "    <tr>\n",
       "      <th>1</th>\n",
       "      <td>443.4228</td>\n",
       "      <td>9.0</td>\n",
       "      <td>6.096776</td>\n",
       "      <td>2.302585</td>\n",
       "    </tr>\n",
       "    <tr>\n",
       "      <th>2</th>\n",
       "      <td>2097.2700</td>\n",
       "      <td>15.0</td>\n",
       "      <td>7.648868</td>\n",
       "      <td>2.772589</td>\n",
       "    </tr>\n",
       "    <tr>\n",
       "      <th>3</th>\n",
       "      <td>732.3800</td>\n",
       "      <td>4.0</td>\n",
       "      <td>6.597664</td>\n",
       "      <td>1.609438</td>\n",
       "    </tr>\n",
       "    <tr>\n",
       "      <th>4</th>\n",
       "      <td>994.7052</td>\n",
       "      <td>18.0</td>\n",
       "      <td>6.903451</td>\n",
       "      <td>2.944439</td>\n",
       "    </tr>\n",
       "  </tbody>\n",
       "</table>\n",
       "</div>"
      ],
      "text/plain": [
       "   Item_Outlet_Sales  Unit_Sales  Item_Outlet_Sales_log  Unit_Sales_log\n",
       "0          3735.1380        15.0               8.225808        2.772589\n",
       "1           443.4228         9.0               6.096776        2.302585\n",
       "2          2097.2700        15.0               7.648868        2.772589\n",
       "3           732.3800         4.0               6.597664        1.609438\n",
       "4           994.7052        18.0               6.903451        2.944439"
      ]
     },
     "execution_count": 108,
     "metadata": {},
     "output_type": "execute_result"
    }
   ],
   "source": [
    "target_df.head()"
   ]
  },
  {
   "cell_type": "code",
   "execution_count": 109,
   "metadata": {
    "collapsed": true
   },
   "outputs": [],
   "source": [
    "target = \"Item_Outlet_Sales\""
   ]
  },
  {
   "cell_type": "markdown",
   "metadata": {},
   "source": [
    "** Set 0.2: Setting the features set **"
   ]
  },
  {
   "cell_type": "code",
   "execution_count": 110,
   "metadata": {
    "collapsed": true
   },
   "outputs": [],
   "source": [
    "# Code to check for i) duplicate rows, ii) duplicate columns, iii) Totally useless row / columns that can be removed"
   ]
  },
  {
   "cell_type": "markdown",
   "metadata": {},
   "source": [
    "** Features set 1: Missing Values **"
   ]
  },
  {
   "cell_type": "code",
   "execution_count": 111,
   "metadata": {
    "collapsed": true
   },
   "outputs": [],
   "source": [
    "missing_df = pd.DataFrame()"
   ]
  },
  {
   "cell_type": "code",
   "execution_count": 112,
   "metadata": {},
   "outputs": [
    {
     "name": "stdout",
     "output_type": "stream",
     "text": [
      "Item_Fat_Content                0\n",
      "Item_Identifier                 0\n",
      "Item_MRP                        0\n",
      "Item_Outlet_Sales            5681\n",
      "Item_Type                       0\n",
      "Item_Visibility                 0\n",
      "Item_Weight                  2439\n",
      "Outlet_Establishment_Year       0\n",
      "Outlet_Identifier               0\n",
      "Outlet_Location_Type            0\n",
      "Outlet_Size                  4016\n",
      "Outlet_Type                     0\n",
      "source                          0\n",
      "dtype: int64\n"
     ]
    }
   ],
   "source": [
    "print(data.apply(num_missing, axis=0))"
   ]
  },
  {
   "cell_type": "code",
   "execution_count": 113,
   "metadata": {
    "collapsed": true
   },
   "outputs": [],
   "source": [
    "# Missing Values\n",
    "#msno.matrix(data, labels=True)\n",
    "#msno.heatmap(data)\n",
    "#msno.dendrogram(data)"
   ]
  },
  {
   "cell_type": "code",
   "execution_count": 114,
   "metadata": {
    "collapsed": true
   },
   "outputs": [],
   "source": [
    "missing_cols = ['Item_Weight','Outlet_Size','Item_Visibility']"
   ]
  },
  {
   "cell_type": "code",
   "execution_count": 115,
   "metadata": {},
   "outputs": [
    {
     "name": "stdout",
     "output_type": "stream",
     "text": [
      "\n",
      "Orignal #missing: 4016\n",
      "0\n"
     ]
    }
   ],
   "source": [
    "# 1 - Handling missing data - Impute and/or create new features\n",
    "missing_df.loc[:,'Outlet_Size_Imputed'] = data.loc[:,'Outlet_Size']\n",
    "missing_df.loc[:,'Outlet_Size_FillNA'] = data.loc[:,'Outlet_Size']\n",
    "missing_df.loc[:,'Outlet_Size_NaN'] = 'Not_Missing'\n",
    "\n",
    "#Determing the mode for each\n",
    "outlet_size_mode = data.pivot_table(values='Outlet_Size', columns='Outlet_Type',aggfunc=(lambda x:mode(x.dropna()).mode[0]) )\n",
    "\n",
    "outlet_size_dict = {'Grocery Store':'Small','Supermarket Type1':'Small',\n",
    "                    'Supermarket Type2':'Medium','Supermarket Type3':'Medium'}\n",
    "\n",
    "\n",
    "#Get a boolean variable specifying missing Outlet values\n",
    "miss_bool = data['Outlet_Size'].isnull() \n",
    "\n",
    "#Impute data and check #missing values before and after imputation to confirm\n",
    "print ('\\nOrignal #missing: %d'% sum(miss_bool))\n",
    "missing_df.loc[miss_bool,'Outlet_Size_Imputed'] = data.loc[miss_bool,'Outlet_Type'].map(outlet_size_dict)\n",
    "missing_df.loc[miss_bool,'Outlet_Size_NaN'] = 'Missing'\n",
    "missing_df['Outlet_Size_FillNA'].fillna('Missing',inplace=True)\n",
    "print (sum(missing_df['Outlet_Size_Imputed'].isnull()))"
   ]
  },
  {
   "cell_type": "code",
   "execution_count": 116,
   "metadata": {},
   "outputs": [
    {
     "name": "stdout",
     "output_type": "stream",
     "text": [
      "Original #missing: 2439\n",
      "Final #missing: 0\n"
     ]
    }
   ],
   "source": [
    "# 2 - Handling missing data - Impute and/or create new features\n",
    "# Item Weight\n",
    "missing_df.loc[:,'Item_Weight_Imputed'] = data.loc[:,'Item_Weight']\n",
    "missing_df.loc[:,'Item_Weight_FillNA'] = data.loc[:,'Item_Weight']\n",
    "missing_df.loc[:,'Item_Weight_NaN'] = 'Not_Missing'\n",
    "\n",
    "item_avg_wt = data.groupby('Item_Identifier')['Item_Weight'].mean()\n",
    "#Get a boolean variable specifying missing Item_Weight values\n",
    "miss_bool = data['Item_Weight'].isnull() \n",
    "\n",
    "#Impute data and check #missing values before and after imputation to confirm\n",
    "print ('Original #missing: %d'% sum(miss_bool))\n",
    "missing_df.loc[miss_bool,'Item_Weight_Imputed'] = data.loc[miss_bool,'Item_Identifier'].map(item_avg_wt)\n",
    "missing_df.loc[miss_bool,'Item_Weight_NaN'] = 'Missing'\n",
    "missing_df['Item_Weight_FillNA'].fillna(-999,inplace=True)\n",
    "print ('Final #missing: %d'% sum(missing_df['Item_Weight_Imputed'].isnull()))"
   ]
  },
  {
   "cell_type": "code",
   "execution_count": 117,
   "metadata": {},
   "outputs": [
    {
     "name": "stdout",
     "output_type": "stream",
     "text": [
      "Number of 0 values initially: 879\n",
      "Number of 0 values after modification: 0\n"
     ]
    }
   ],
   "source": [
    "# 3 - Handling missing data (Values are present but are not logical. Ex: Item Visibility=0)\n",
    "# Item_Visibility\n",
    "if 1==1:\n",
    "    missing_df.loc[:,'Item_Visibility_Imputed'] = data.loc[:,'Item_Visibility']\n",
    "    missing_df.loc[:,'Item_Visibility_FillNA'] = data.loc[:,'Item_Visibility']\n",
    "    missing_df.loc[:,'Item_Visibility_NaN'] = 'Not_Missing'\n",
    "    \n",
    "    #Determine average visibility of a product\n",
    "    visibility_avg = data.groupby('Item_Identifier')['Item_Visibility'].mean()    \n",
    "\n",
    "    #Impute 0 values with mean visibility of that product:\n",
    "    miss_bool = (data['Item_Visibility'] == 0)\n",
    "\n",
    "    print ('Number of 0 values initially: %d'%sum(miss_bool))\n",
    "    missing_df.loc[miss_bool,'Item_Visibility_Imputed'] = data.loc[miss_bool,'Item_Identifier'].map(visibility_avg)\n",
    "    missing_df.loc[miss_bool,'Item_Visibility_NaN'] = 'Missing'\n",
    "    missing_df['Item_Visibility_FillNA'].fillna(-999,inplace=True)   \n",
    "    print ('Number of 0 values after modification: %d'%sum(missing_df['Item_Visibility_Imputed'] == 0))"
   ]
  },
  {
   "cell_type": "code",
   "execution_count": 118,
   "metadata": {},
   "outputs": [
    {
     "data": {
      "text/html": [
       "<div>\n",
       "<style scoped>\n",
       "    .dataframe tbody tr th:only-of-type {\n",
       "        vertical-align: middle;\n",
       "    }\n",
       "\n",
       "    .dataframe tbody tr th {\n",
       "        vertical-align: top;\n",
       "    }\n",
       "\n",
       "    .dataframe thead th {\n",
       "        text-align: right;\n",
       "    }\n",
       "</style>\n",
       "<table border=\"1\" class=\"dataframe\">\n",
       "  <thead>\n",
       "    <tr style=\"text-align: right;\">\n",
       "      <th></th>\n",
       "      <th>Outlet_Size_Imputed</th>\n",
       "      <th>Outlet_Size_FillNA</th>\n",
       "      <th>Outlet_Size_NaN</th>\n",
       "      <th>Item_Weight_Imputed</th>\n",
       "      <th>Item_Weight_FillNA</th>\n",
       "      <th>Item_Weight_NaN</th>\n",
       "      <th>Item_Visibility_Imputed</th>\n",
       "      <th>Item_Visibility_FillNA</th>\n",
       "      <th>Item_Visibility_NaN</th>\n",
       "    </tr>\n",
       "  </thead>\n",
       "  <tbody>\n",
       "    <tr>\n",
       "      <th>0</th>\n",
       "      <td>Medium</td>\n",
       "      <td>Medium</td>\n",
       "      <td>Not_Missing</td>\n",
       "      <td>9.30</td>\n",
       "      <td>9.30</td>\n",
       "      <td>Not_Missing</td>\n",
       "      <td>0.016047</td>\n",
       "      <td>0.016047</td>\n",
       "      <td>Not_Missing</td>\n",
       "    </tr>\n",
       "    <tr>\n",
       "      <th>1</th>\n",
       "      <td>Medium</td>\n",
       "      <td>Medium</td>\n",
       "      <td>Not_Missing</td>\n",
       "      <td>5.92</td>\n",
       "      <td>5.92</td>\n",
       "      <td>Not_Missing</td>\n",
       "      <td>0.019278</td>\n",
       "      <td>0.019278</td>\n",
       "      <td>Not_Missing</td>\n",
       "    </tr>\n",
       "    <tr>\n",
       "      <th>2</th>\n",
       "      <td>Medium</td>\n",
       "      <td>Medium</td>\n",
       "      <td>Not_Missing</td>\n",
       "      <td>17.50</td>\n",
       "      <td>17.50</td>\n",
       "      <td>Not_Missing</td>\n",
       "      <td>0.016760</td>\n",
       "      <td>0.016760</td>\n",
       "      <td>Not_Missing</td>\n",
       "    </tr>\n",
       "    <tr>\n",
       "      <th>3</th>\n",
       "      <td>Small</td>\n",
       "      <td>Missing</td>\n",
       "      <td>Missing</td>\n",
       "      <td>19.20</td>\n",
       "      <td>19.20</td>\n",
       "      <td>Not_Missing</td>\n",
       "      <td>0.017834</td>\n",
       "      <td>0.000000</td>\n",
       "      <td>Missing</td>\n",
       "    </tr>\n",
       "    <tr>\n",
       "      <th>4</th>\n",
       "      <td>High</td>\n",
       "      <td>High</td>\n",
       "      <td>Not_Missing</td>\n",
       "      <td>8.93</td>\n",
       "      <td>8.93</td>\n",
       "      <td>Not_Missing</td>\n",
       "      <td>0.009780</td>\n",
       "      <td>0.000000</td>\n",
       "      <td>Missing</td>\n",
       "    </tr>\n",
       "  </tbody>\n",
       "</table>\n",
       "</div>"
      ],
      "text/plain": [
       "  Outlet_Size_Imputed Outlet_Size_FillNA Outlet_Size_NaN  Item_Weight_Imputed  \\\n",
       "0              Medium             Medium     Not_Missing                 9.30   \n",
       "1              Medium             Medium     Not_Missing                 5.92   \n",
       "2              Medium             Medium     Not_Missing                17.50   \n",
       "3               Small            Missing         Missing                19.20   \n",
       "4                High               High     Not_Missing                 8.93   \n",
       "\n",
       "   Item_Weight_FillNA Item_Weight_NaN  Item_Visibility_Imputed  \\\n",
       "0                9.30     Not_Missing                 0.016047   \n",
       "1                5.92     Not_Missing                 0.019278   \n",
       "2               17.50     Not_Missing                 0.016760   \n",
       "3               19.20     Not_Missing                 0.017834   \n",
       "4                8.93     Not_Missing                 0.009780   \n",
       "\n",
       "   Item_Visibility_FillNA Item_Visibility_NaN  \n",
       "0                0.016047         Not_Missing  \n",
       "1                0.019278         Not_Missing  \n",
       "2                0.016760         Not_Missing  \n",
       "3                0.000000             Missing  \n",
       "4                0.000000             Missing  "
      ]
     },
     "execution_count": 118,
     "metadata": {},
     "output_type": "execute_result"
    }
   ],
   "source": [
    "missing_df.head()"
   ]
  },
  {
   "cell_type": "code",
   "execution_count": 119,
   "metadata": {
    "collapsed": true
   },
   "outputs": [],
   "source": [
    "data = pd.concat([data,missing_df],axis=1)"
   ]
  },
  {
   "cell_type": "markdown",
   "metadata": {},
   "source": [
    "** Feature set 2: Domain or Data based features **"
   ]
  },
  {
   "cell_type": "code",
   "execution_count": 120,
   "metadata": {
    "collapsed": true
   },
   "outputs": [],
   "source": [
    "new_features_df = pd.DataFrame()"
   ]
  },
  {
   "cell_type": "code",
   "execution_count": 121,
   "metadata": {
    "collapsed": true
   },
   "outputs": [],
   "source": [
    "# 1 - Creating new columns from categorical variables\n",
    "# Item Fat Content\n",
    "new_features_df['Item_Fat_Content_modified'] = data['Item_Fat_Content'].replace({'LF':'Low Fat',\n",
    "                                                             'reg':'Regular',\n",
    "                                                             'low fat':'Low Fat'})\n",
    "# Item Type Combined\n",
    "new_features_df['Item_Type_Combined'] = data['Item_Identifier'].apply(lambda x: x[0:2])\n",
    "\n",
    "#Mark non-consumables as separate category in low_fat:\n",
    "new_features_df.loc[new_features_df['Item_Type_Combined']==\"NC\",'Item_Fat_Content_modified'] = \"Non-Edible\""
   ]
  },
  {
   "cell_type": "code",
   "execution_count": 122,
   "metadata": {
    "collapsed": true
   },
   "outputs": [],
   "source": [
    "# 2 - Creating new columns from numerical variables\n",
    "new_features_df['Outlet_Years'] = 2013 - data['Outlet_Establishment_Year']"
   ]
  },
  {
   "cell_type": "code",
   "execution_count": 123,
   "metadata": {
    "collapsed": true
   },
   "outputs": [],
   "source": [
    "# 3 - Creating categories for Numerical variables\n",
    "# Item MRP\n",
    "price_cat = ['Very_Low_Price', 'Low_Price',\n",
    "             'Moderate_Price','High_Price',\n",
    "             'Very_High_Price']\n",
    "\n",
    "new_features_df['PriceLevels'] = pd.qcut(data['Item_MRP'],5, price_cat)\n",
    "new_features_df['PriceLevels'] = new_features_df['PriceLevels'].astype(object)\n",
    "\n",
    "# Item Weight\n",
    "weight_cat = ['Very_Low_Weight', 'Low_Weight',\n",
    "             'Moderate_Weight','High_Weight',\n",
    "             'Very_High_Weight']\n",
    "\n",
    "new_features_df['WeightLevels'] = pd.qcut(data['Item_Weight'],5, weight_cat)\n",
    "new_features_df['WeightLevels'] = new_features_df['WeightLevels'].astype(object)\n",
    "\n",
    "# Item Visibility\n",
    "visibility_cat = ['Low_Visibility','Moderate_Visibility','High_Visibility']\n",
    "\n",
    "new_features_df['VisibilityLevels'] = pd.qcut(data['Item_Visibility'],3, visibility_cat)\n",
    "new_features_df['VisibilityLevels'] = new_features_df['VisibilityLevels'].astype(object)"
   ]
  },
  {
   "cell_type": "code",
   "execution_count": 124,
   "metadata": {
    "collapsed": true
   },
   "outputs": [],
   "source": [
    "# 4 - Handling Outliers - Clipping numerical values\n",
    "\n",
    "# Item_MRP\n",
    "cols_for_clipping = ['Item_MRP']\n",
    "\n",
    "for col in cols_for_clipping:\n",
    "    new_col = col + '_clipped'\n",
    "    new_features_df[new_col] = data[col].values\n",
    "\n",
    "    llimit = np.nanpercentile(data[col].values, 1)  #Here 1% is the threshold but that number can be changed\n",
    "    ulimit = np.nanpercentile(data[col].values, 99) #Here 99% is the threshold but that number can be changed\n",
    "    new_features_df.loc[new_features_df[new_col] < llimit,[new_col]] = llimit\n",
    "    new_features_df.loc[new_features_df[new_col] > ulimit,[new_col]] = ulimit"
   ]
  },
  {
   "cell_type": "code",
   "execution_count": 125,
   "metadata": {},
   "outputs": [
    {
     "data": {
      "text/html": [
       "<div>\n",
       "<style scoped>\n",
       "    .dataframe tbody tr th:only-of-type {\n",
       "        vertical-align: middle;\n",
       "    }\n",
       "\n",
       "    .dataframe tbody tr th {\n",
       "        vertical-align: top;\n",
       "    }\n",
       "\n",
       "    .dataframe thead th {\n",
       "        text-align: right;\n",
       "    }\n",
       "</style>\n",
       "<table border=\"1\" class=\"dataframe\">\n",
       "  <thead>\n",
       "    <tr style=\"text-align: right;\">\n",
       "      <th></th>\n",
       "      <th>Item_Fat_Content_modified</th>\n",
       "      <th>Item_Type_Combined</th>\n",
       "      <th>Outlet_Years</th>\n",
       "      <th>PriceLevels</th>\n",
       "      <th>WeightLevels</th>\n",
       "      <th>VisibilityLevels</th>\n",
       "      <th>Item_MRP_clipped</th>\n",
       "    </tr>\n",
       "  </thead>\n",
       "  <tbody>\n",
       "    <tr>\n",
       "      <th>0</th>\n",
       "      <td>Low Fat</td>\n",
       "      <td>FD</td>\n",
       "      <td>14</td>\n",
       "      <td>Very_High_Price</td>\n",
       "      <td>Low_Weight</td>\n",
       "      <td>Low_Visibility</td>\n",
       "      <td>249.8092</td>\n",
       "    </tr>\n",
       "    <tr>\n",
       "      <th>1</th>\n",
       "      <td>Regular</td>\n",
       "      <td>DR</td>\n",
       "      <td>4</td>\n",
       "      <td>Very_Low_Price</td>\n",
       "      <td>Very_Low_Weight</td>\n",
       "      <td>Low_Visibility</td>\n",
       "      <td>48.2692</td>\n",
       "    </tr>\n",
       "    <tr>\n",
       "      <th>2</th>\n",
       "      <td>Low Fat</td>\n",
       "      <td>FD</td>\n",
       "      <td>14</td>\n",
       "      <td>Moderate_Price</td>\n",
       "      <td>High_Weight</td>\n",
       "      <td>Low_Visibility</td>\n",
       "      <td>141.6180</td>\n",
       "    </tr>\n",
       "    <tr>\n",
       "      <th>3</th>\n",
       "      <td>Regular</td>\n",
       "      <td>FD</td>\n",
       "      <td>15</td>\n",
       "      <td>High_Price</td>\n",
       "      <td>Very_High_Weight</td>\n",
       "      <td>Low_Visibility</td>\n",
       "      <td>182.0950</td>\n",
       "    </tr>\n",
       "    <tr>\n",
       "      <th>4</th>\n",
       "      <td>Non-Edible</td>\n",
       "      <td>NC</td>\n",
       "      <td>26</td>\n",
       "      <td>Very_Low_Price</td>\n",
       "      <td>Low_Weight</td>\n",
       "      <td>Low_Visibility</td>\n",
       "      <td>53.8614</td>\n",
       "    </tr>\n",
       "  </tbody>\n",
       "</table>\n",
       "</div>"
      ],
      "text/plain": [
       "  Item_Fat_Content_modified Item_Type_Combined  Outlet_Years      PriceLevels  \\\n",
       "0                   Low Fat                 FD            14  Very_High_Price   \n",
       "1                   Regular                 DR             4   Very_Low_Price   \n",
       "2                   Low Fat                 FD            14   Moderate_Price   \n",
       "3                   Regular                 FD            15       High_Price   \n",
       "4                Non-Edible                 NC            26   Very_Low_Price   \n",
       "\n",
       "       WeightLevels VisibilityLevels  Item_MRP_clipped  \n",
       "0        Low_Weight   Low_Visibility          249.8092  \n",
       "1   Very_Low_Weight   Low_Visibility           48.2692  \n",
       "2       High_Weight   Low_Visibility          141.6180  \n",
       "3  Very_High_Weight   Low_Visibility          182.0950  \n",
       "4        Low_Weight   Low_Visibility           53.8614  "
      ]
     },
     "execution_count": 125,
     "metadata": {},
     "output_type": "execute_result"
    }
   ],
   "source": [
    "new_features_df.head()"
   ]
  },
  {
   "cell_type": "code",
   "execution_count": 126,
   "metadata": {
    "collapsed": true
   },
   "outputs": [],
   "source": [
    "data = pd.concat([data,new_features_df],axis=1)"
   ]
  },
  {
   "cell_type": "markdown",
   "metadata": {},
   "source": [
    "** Feature Set 3: Date Features **"
   ]
  },
  {
   "cell_type": "code",
   "execution_count": 127,
   "metadata": {
    "collapsed": true
   },
   "outputs": [],
   "source": [
    "# Can use the Transformer - DateTimeFeatures (in generictransformers.py)\n",
    "# 1. Time Moments in a period\n",
    "if 1==0:\n",
    "    date_df = pd.DataFrame()\n",
    "    date_df['date'] = (pd.to_datetime(data[\"datetime\"], format=\"%Y-%m-%d\"))\n",
    "    \n",
    "    date_df[\"DayOfMonth\"] = date_df['date'].apply(lambda x: x.day)\n",
    "    date_df[\"Month\"] = date_df['date'].apply(lambda x: x.month)\n",
    "    date_df[\"Year\"] = date_df['date'].apply(lambda x: x.year)\n",
    "    date_df[\"WeekDay\"] = date_df['date'].apply(lambda x: x.weekday())\n",
    "    date_df[\"WeekNo\"] = date_df['date'].apply(lambda x: x.isocalendar()[1])\n",
    "    date_df[\"DayOfYear\"] = date_df['date'].apply(lambda x: x.timetuple().tm_yday)\n",
    "    date_df[\"DayCount\"] = date_df['date'].apply(lambda x: x.toordinal())\n",
    "    date_df[\"Hour\"] = date_df['date'].apply(lambda x: x.hour)\n",
    "\n",
    "# 2. Date features based on events - Can be row or column based (Ex: Number of days since a particular event)\n",
    "if 1==0:\n",
    "    pass\n",
    "\n",
    "# 3. Lag based features (especially important in time series problems)\n",
    "if 1==0:\n",
    "    #dfx= time_series_to_supervised(df, n_lag= 1, n_fut= 2, dropnan= False, selLag= ['xa'], selFut=['rslt'])\n",
    "    pass\n",
    "\n",
    "# 4. TSFresh created features\n",
    "if 1==0:\n",
    "    # Use tsfresh package\n",
    "    pass\n",
    "\n",
    "if 1==0:\n",
    "    data = pd.concat([data,date_df],axis=1)"
   ]
  },
  {
   "cell_type": "markdown",
   "metadata": {},
   "source": [
    "** Features Set 4: Text Based Features **"
   ]
  },
  {
   "cell_type": "code",
   "execution_count": 128,
   "metadata": {
    "collapsed": true
   },
   "outputs": [],
   "source": [
    "if 1==0:\n",
    "    text_df = pd.DataFrame()\n",
    "    data = pd.concat([data,text_df],axis=1)"
   ]
  },
  {
   "cell_type": "markdown",
   "metadata": {},
   "source": [
    "** Feature Set 5: Interaction Features **"
   ]
  },
  {
   "cell_type": "code",
   "execution_count": 129,
   "metadata": {
    "collapsed": true
   },
   "outputs": [],
   "source": [
    "interaction_cols = ['Item_Visibility_Imputed','Item_MRP_clipped','Outlet_Years','Item_Fat_Content_modified',\n",
    "                    'Item_Type_Combined','Outlet_Identifier','Outlet_Type','Outlet_Location_Type','Outlet_Size_Imputed',\n",
    "                    'PriceLevels','WeightLevels','VisibilityLevels']"
   ]
  },
  {
   "cell_type": "code",
   "execution_count": 130,
   "metadata": {
    "collapsed": true
   },
   "outputs": [],
   "source": [
    "X = data[data['source']=='train'][interaction_cols]\n",
    "y = target_df[target]"
   ]
  },
  {
   "cell_type": "code",
   "execution_count": 131,
   "metadata": {
    "collapsed": true,
    "scrolled": false
   },
   "outputs": [],
   "source": [
    "if 1==0:\n",
    "    XGBInteractions(X,y,\"av-bigmart-FI-1.xlsx\",type='regression')"
   ]
  },
  {
   "cell_type": "code",
   "execution_count": 132,
   "metadata": {
    "collapsed": true
   },
   "outputs": [],
   "source": [
    "interactions_pipe = Pipeline([\n",
    "            #('extract_features',ExtractColumns(interaction_cols)),\n",
    "            ('interactions',PatsyTransformer(\n",
    "                            (\"Outlet_Type:Outlet_Years + Outlet_Years*Item_MRP_clipped\"),\n",
    "                            return_type=\"dataframe\"))\n",
    "            ])"
   ]
  },
  {
   "cell_type": "code",
   "execution_count": 133,
   "metadata": {},
   "outputs": [
    {
     "data": {
      "text/html": [
       "<div>\n",
       "<style scoped>\n",
       "    .dataframe tbody tr th:only-of-type {\n",
       "        vertical-align: middle;\n",
       "    }\n",
       "\n",
       "    .dataframe tbody tr th {\n",
       "        vertical-align: top;\n",
       "    }\n",
       "\n",
       "    .dataframe thead th {\n",
       "        text-align: right;\n",
       "    }\n",
       "</style>\n",
       "<table border=\"1\" class=\"dataframe\">\n",
       "  <thead>\n",
       "    <tr style=\"text-align: right;\">\n",
       "      <th></th>\n",
       "      <th>Outlet_Years</th>\n",
       "      <th>Outlet_Type:T.Supermarket Type1::Outlet_Years</th>\n",
       "      <th>Outlet_Type:T.Supermarket Type2::Outlet_Years</th>\n",
       "      <th>Outlet_Type:T.Supermarket Type3::Outlet_Years</th>\n",
       "      <th>Item_MRP_clipped</th>\n",
       "      <th>Outlet_Years:Item_MRP_clipped</th>\n",
       "    </tr>\n",
       "  </thead>\n",
       "  <tbody>\n",
       "    <tr>\n",
       "      <th>0</th>\n",
       "      <td>14.0</td>\n",
       "      <td>14.0</td>\n",
       "      <td>0.0</td>\n",
       "      <td>0.0</td>\n",
       "      <td>249.8092</td>\n",
       "      <td>3497.3288</td>\n",
       "    </tr>\n",
       "    <tr>\n",
       "      <th>1</th>\n",
       "      <td>4.0</td>\n",
       "      <td>0.0</td>\n",
       "      <td>4.0</td>\n",
       "      <td>0.0</td>\n",
       "      <td>48.2692</td>\n",
       "      <td>193.0768</td>\n",
       "    </tr>\n",
       "    <tr>\n",
       "      <th>2</th>\n",
       "      <td>14.0</td>\n",
       "      <td>14.0</td>\n",
       "      <td>0.0</td>\n",
       "      <td>0.0</td>\n",
       "      <td>141.6180</td>\n",
       "      <td>1982.6520</td>\n",
       "    </tr>\n",
       "    <tr>\n",
       "      <th>3</th>\n",
       "      <td>15.0</td>\n",
       "      <td>0.0</td>\n",
       "      <td>0.0</td>\n",
       "      <td>0.0</td>\n",
       "      <td>182.0950</td>\n",
       "      <td>2731.4250</td>\n",
       "    </tr>\n",
       "    <tr>\n",
       "      <th>4</th>\n",
       "      <td>26.0</td>\n",
       "      <td>26.0</td>\n",
       "      <td>0.0</td>\n",
       "      <td>0.0</td>\n",
       "      <td>53.8614</td>\n",
       "      <td>1400.3964</td>\n",
       "    </tr>\n",
       "  </tbody>\n",
       "</table>\n",
       "</div>"
      ],
      "text/plain": [
       "   Outlet_Years  Outlet_Type:T.Supermarket Type1::Outlet_Years  \\\n",
       "0          14.0                                           14.0   \n",
       "1           4.0                                            0.0   \n",
       "2          14.0                                           14.0   \n",
       "3          15.0                                            0.0   \n",
       "4          26.0                                           26.0   \n",
       "\n",
       "   Outlet_Type:T.Supermarket Type2::Outlet_Years  \\\n",
       "0                                            0.0   \n",
       "1                                            4.0   \n",
       "2                                            0.0   \n",
       "3                                            0.0   \n",
       "4                                            0.0   \n",
       "\n",
       "   Outlet_Type:T.Supermarket Type3::Outlet_Years  Item_MRP_clipped  \\\n",
       "0                                            0.0          249.8092   \n",
       "1                                            0.0           48.2692   \n",
       "2                                            0.0          141.6180   \n",
       "3                                            0.0          182.0950   \n",
       "4                                            0.0           53.8614   \n",
       "\n",
       "   Outlet_Years:Item_MRP_clipped  \n",
       "0                      3497.3288  \n",
       "1                       193.0768  \n",
       "2                      1982.6520  \n",
       "3                      2731.4250  \n",
       "4                      1400.3964  "
      ]
     },
     "execution_count": 133,
     "metadata": {},
     "output_type": "execute_result"
    }
   ],
   "source": [
    "interactions_df=interactions_pipe.fit_transform(data)\n",
    "interactions_df.rename(columns=lambda x: x.replace('[', ':'), inplace=True)\n",
    "interactions_df.rename(columns=lambda x: x.replace(']', ':'), inplace=True)\n",
    "\n",
    "interactions_df.head()"
   ]
  },
  {
   "cell_type": "code",
   "execution_count": 134,
   "metadata": {
    "collapsed": true
   },
   "outputs": [],
   "source": [
    "data = pd.concat([data,interactions_df],axis=1)\n",
    "data = data.loc[:,~data.columns.duplicated()]"
   ]
  },
  {
   "cell_type": "markdown",
   "metadata": {},
   "source": [
    "** Feature set 6a: Statistical Features - Computed using GroupBy **"
   ]
  },
  {
   "cell_type": "code",
   "execution_count": 135,
   "metadata": {
    "collapsed": true
   },
   "outputs": [],
   "source": [
    "if 1==1: \n",
    "    data_copy_df = data.copy()\n",
    "    grouping_cols = ['Item_Identifier','Outlet_Identifier']\n",
    "    compute_list = [('Item_MRP',np.mean,'avg'),('Item_Outlet_Sales',np.mean,'avg')]\n",
    "    stats_df = data_copy_df[grouping_cols]\n",
    "    for type_id in grouping_cols:\n",
    "        for column_id,aggregator,aggtype in compute_list:\n",
    "            compute_df = data_copy_df.groupby([type_id])[column_id].aggregate(aggregator).reset_index()\n",
    "            compute_df.columns = [type_id,type_id+'_'+aggtype+'_'+column_id]\n",
    "\n",
    "            stats_df = pd.merge(stats_df,compute_df,on=[type_id],how='left')\n",
    "\n",
    "    stats_df = stats_df.iloc[:,len(grouping_cols):]\n",
    "    data = pd.concat([data,stats_df],axis=1)"
   ]
  },
  {
   "cell_type": "code",
   "execution_count": 136,
   "metadata": {},
   "outputs": [
    {
     "data": {
      "text/html": [
       "<div>\n",
       "<style scoped>\n",
       "    .dataframe tbody tr th:only-of-type {\n",
       "        vertical-align: middle;\n",
       "    }\n",
       "\n",
       "    .dataframe tbody tr th {\n",
       "        vertical-align: top;\n",
       "    }\n",
       "\n",
       "    .dataframe thead th {\n",
       "        text-align: right;\n",
       "    }\n",
       "</style>\n",
       "<table border=\"1\" class=\"dataframe\">\n",
       "  <thead>\n",
       "    <tr style=\"text-align: right;\">\n",
       "      <th></th>\n",
       "      <th>Item_Identifier_avg_Item_MRP</th>\n",
       "      <th>Item_Identifier_avg_Item_Outlet_Sales</th>\n",
       "      <th>Outlet_Identifier_avg_Item_MRP</th>\n",
       "      <th>Outlet_Identifier_avg_Item_Outlet_Sales</th>\n",
       "    </tr>\n",
       "  </thead>\n",
       "  <tbody>\n",
       "    <tr>\n",
       "      <th>0</th>\n",
       "      <td>249.542533</td>\n",
       "      <td>5198.067050</td>\n",
       "      <td>141.163199</td>\n",
       "      <td>2348.354635</td>\n",
       "    </tr>\n",
       "    <tr>\n",
       "      <th>1</th>\n",
       "      <td>48.991422</td>\n",
       "      <td>862.211000</td>\n",
       "      <td>141.000899</td>\n",
       "      <td>1995.498739</td>\n",
       "    </tr>\n",
       "    <tr>\n",
       "      <th>2</th>\n",
       "      <td>140.088000</td>\n",
       "      <td>1478.076000</td>\n",
       "      <td>141.163199</td>\n",
       "      <td>2348.354635</td>\n",
       "    </tr>\n",
       "    <tr>\n",
       "      <th>3</th>\n",
       "      <td>183.350556</td>\n",
       "      <td>3021.067500</td>\n",
       "      <td>141.159742</td>\n",
       "      <td>339.351662</td>\n",
       "    </tr>\n",
       "    <tr>\n",
       "      <th>4</th>\n",
       "      <td>54.861400</td>\n",
       "      <td>653.926567</td>\n",
       "      <td>141.128428</td>\n",
       "      <td>2298.995256</td>\n",
       "    </tr>\n",
       "  </tbody>\n",
       "</table>\n",
       "</div>"
      ],
      "text/plain": [
       "   Item_Identifier_avg_Item_MRP  Item_Identifier_avg_Item_Outlet_Sales  \\\n",
       "0                    249.542533                            5198.067050   \n",
       "1                     48.991422                             862.211000   \n",
       "2                    140.088000                            1478.076000   \n",
       "3                    183.350556                            3021.067500   \n",
       "4                     54.861400                             653.926567   \n",
       "\n",
       "   Outlet_Identifier_avg_Item_MRP  Outlet_Identifier_avg_Item_Outlet_Sales  \n",
       "0                      141.163199                              2348.354635  \n",
       "1                      141.000899                              1995.498739  \n",
       "2                      141.163199                              2348.354635  \n",
       "3                      141.159742                               339.351662  \n",
       "4                      141.128428                              2298.995256  "
      ]
     },
     "execution_count": 136,
     "metadata": {},
     "output_type": "execute_result"
    }
   ],
   "source": [
    "stats_df.head()"
   ]
  },
  {
   "cell_type": "markdown",
   "metadata": {},
   "source": [
    "** Feature Set 6b: Target Encoding - Regularized **"
   ]
  },
  {
   "cell_type": "code",
   "execution_count": 137,
   "metadata": {
    "collapsed": true
   },
   "outputs": [],
   "source": [
    "cols_target_encoding = ['Item_Identifier','Outlet_Identifier']\n",
    "# target = 'Item_Outlet_Sales' (Set at the beginning of this notebook)"
   ]
  },
  {
   "cell_type": "code",
   "execution_count": 138,
   "metadata": {
    "collapsed": true
   },
   "outputs": [],
   "source": [
    "#sales_item_outlet_agg = train_df.groupby(['Item_Identifier','Outlet_Identifier'])['Item_Outlet_Sales'].mean().reset_index(name='sales')\n",
    "#sales_item_outlet_agg = train_df.groupby(['Item_Identifier','Outlet_Identifier','Outlet_Type'])['Unit_Sales'].mean().reset_index(name='sales')\n",
    "sales_item_outlet_agg = data[data['source']=='train'].groupby(cols_target_encoding)[target].mean().reset_index(name='sales')\n",
    "\n",
    "#sort the data\n",
    "sales_item_outlet_agg.sort_values(cols_target_encoding,inplace=True)"
   ]
  },
  {
   "cell_type": "code",
   "execution_count": 139,
   "metadata": {
    "collapsed": true
   },
   "outputs": [],
   "source": [
    "#from itertools import product\n",
    "\n",
    "# Extract item, outlet combinations for target encoding\n",
    "grid = [] \n",
    "\n",
    "grid = data[data['source']=='train'].loc[:,cols_target_encoding]"
   ]
  },
  {
   "cell_type": "code",
   "execution_count": 140,
   "metadata": {
    "collapsed": true
   },
   "outputs": [],
   "source": [
    "train_target_enc_df = pd.merge(grid,sales_item_outlet_agg,how=\"left\",on=cols_target_encoding).fillna(0)\n",
    "#sort the data\n",
    "#train_target_enc_df.sort_values(cols_target_encoding,inplace=True)\n",
    "test_target_enc_df = data[data['source']=='test'][cols_target_encoding].copy()"
   ]
  },
  {
   "cell_type": "code",
   "execution_count": 141,
   "metadata": {
    "collapsed": true
   },
   "outputs": [],
   "source": [
    "# Target encoding - No Regularization\n",
    "if 1==1:\n",
    "    for col in cols_target_encoding:\n",
    "        col_mean = train_target_enc_df.groupby(col).sales.mean()\n",
    "        #col_median = train_target_enc_df.groupby(col).sales.median()\n",
    "        #col_stdev = train_target_enc_df.groupby(col).sales.std(ddof=0)\n",
    "\n",
    "        train_target_enc_df[col + '_mean_enc'] = train_target_enc_df[col].map(col_mean)\n",
    "        #train_target_enc_df[col + '_median_enc'] = train_target_enc_df[col].map(col_median)\n",
    "        #train_target_enc_df[col + '_stdev_enc'] = train_target_enc_df[col].map(col_stdev)\n",
    "        \n",
    "        # Test data\n",
    "        test_target_enc_df[col + '_mean_enc'] = test_target_enc_df[col].map(col_mean)\n",
    "        #test_target_enc_df[col + '_median_enc'] = test_target_enc_df[col].map(col_median)\n",
    "        #test_target_enc_df[col + '_stdev_enc'] = test_target_enc_df[col].map(col_stdev)\n",
    "    \n",
    "        if 1==0:\n",
    "            print(col)\n",
    "            print(\"Mean corr: %.2f\" %(np.corrcoef(train_target_enc_df['sales'].values, train_target_enc_df[col + '_mean_enc'].values)[0][1]))\n",
    "            print(\"Median corr: %.2f\" %(np.corrcoef(train_target_enc_df['sales'].values, train_target_enc_df[col + '_median_enc'].values)[0][1]))\n",
    "            print(\"Std corr: %.2f\" %(np.corrcoef(train_target_enc_df['sales'].values, train_target_enc_df[col + '_stdev_enc'].values)[0][1]))"
   ]
  },
  {
   "cell_type": "code",
   "execution_count": 142,
   "metadata": {
    "collapsed": true
   },
   "outputs": [],
   "source": [
    "# Target encoding - K-Fold Regularization\n",
    "\n",
    "from sklearn.model_selection import KFold\n",
    "y_tr = train_target_enc_df['sales'].values\n",
    "kfold = KFold(n_splits=5,shuffle=True,random_state=984)\n",
    "\n",
    "for train_index, val_index in kfold.split(train_target_enc_df):\n",
    "    X_tr, X_val = train_target_enc_df.iloc[train_index],train_target_enc_df.iloc[val_index]\n",
    "    #mean_values_from_tr = X_tr.groupby('Item_Identifier').sales.mean()\n",
    "    #mean_values_mapped_val = X_val['Item_Identifier'].map(mean_values_from_tr)\n",
    "    for col in cols_target_encoding:\n",
    "        mean_col_name = col + '_mean_enc_fold'\n",
    "        #median_col_name = col + '_median_enc_fold'\n",
    "        #stdev_col_name = col + '_stdev_enc_fold'\n",
    "        \n",
    "        train_target_enc_df[mean_col_name] = np.NAN\n",
    "        #train_target_enc_df[median_col_name] = np.NAN\n",
    "        #train_target_enc_df[stdev_col_name] = np.NAN\n",
    "        \n",
    "        # Test set\n",
    "        test_target_enc_df[mean_col_name] = np.NAN\n",
    "        \n",
    "        mean_values_mapped_val = X_val[col].map(X_tr.groupby(col).sales.mean())\n",
    "        #median_values_mapped_val = X_val[col].map(X_tr.groupby(col).sales.median())\n",
    "        #stdev_values_mapped_val = X_val[col].map(X_tr.groupby(col).sales.std(ddof=0))\n",
    "    \n",
    "        train_target_enc_df.loc[train_target_enc_df.index[val_index],mean_col_name] = mean_values_mapped_val\n",
    "        #train_target_enc_df.loc[train_target_enc_df.index[val_index],median_col_name] = median_values_mapped_val\n",
    "        #train_target_enc_df.loc[train_target_enc_df.index[val_index],stdev_col_name] = stdev_values_mapped_val\n",
    "        \n",
    "        # Test set\n",
    "        test_target_enc_df.loc[:,mean_col_name] = mean_values_mapped_val\n",
    "        #test_target_enc_df.loc[:,median_col_name] = median_values_mapped_val\n",
    "        #test_target_enc_df.loc[:,stdev_col_name] = stdev_values_mapped_val\n",
    "        \n",
    "# Fill NaNs\n",
    "for col in cols_target_encoding:\n",
    "    mean_col_name = col + '_mean_enc_fold'\n",
    "    #median_col_name = col + '_median_enc_fold'\n",
    "    #stdev_col_name = col + '_stdev_enc_fold'\n",
    "    \n",
    "    train_target_enc_df.loc[train_target_enc_df[mean_col_name].isnull(),mean_col_name] = train_target_enc_df[col + '_mean_enc']\n",
    "    #train_target_enc_df.loc[train_target_enc_df[median_col_name].isnull(),median_col_name] = train_target_enc_df[col + '_median_enc']\n",
    "    #train_target_enc_df.loc[train_target_enc_df[stdev_col_name].isnull(),stdev_col_name] = train_target_enc_df[col + '_stdev_enc']\n",
    "    \n",
    "    # Test\n",
    "    test_target_enc_df.loc[test_target_enc_df[mean_col_name].isnull(),mean_col_name] = test_target_enc_df[col + '_mean_enc']\n",
    "    #test_target_enc_df.loc[test_target_enc_df[median_col_name].isnull(),median_col_name] = test_target_enc_df[col + '_median_enc']\n",
    "    #test_target_enc_df.loc[test_target_enc_df[stdev_col_name].isnull(),stdev_col_name] = test_target_enc_df[col + '_stdev_enc']"
   ]
  },
  {
   "cell_type": "code",
   "execution_count": 143,
   "metadata": {
    "collapsed": true
   },
   "outputs": [],
   "source": [
    "train_target_enc_df_1=train_target_enc_df.iloc[:,(len(cols_target_encoding)+1):]\n",
    "test_target_enc_df_1=test_target_enc_df.iloc[:,(len(cols_target_encoding)):]"
   ]
  },
  {
   "cell_type": "code",
   "execution_count": 144,
   "metadata": {},
   "outputs": [
    {
     "data": {
      "text/html": [
       "<div>\n",
       "<style scoped>\n",
       "    .dataframe tbody tr th:only-of-type {\n",
       "        vertical-align: middle;\n",
       "    }\n",
       "\n",
       "    .dataframe tbody tr th {\n",
       "        vertical-align: top;\n",
       "    }\n",
       "\n",
       "    .dataframe thead th {\n",
       "        text-align: right;\n",
       "    }\n",
       "</style>\n",
       "<table border=\"1\" class=\"dataframe\">\n",
       "  <thead>\n",
       "    <tr style=\"text-align: right;\">\n",
       "      <th></th>\n",
       "      <th>Item_Identifier_mean_enc</th>\n",
       "      <th>Outlet_Identifier_mean_enc</th>\n",
       "      <th>Item_Identifier_mean_enc_fold</th>\n",
       "      <th>Outlet_Identifier_mean_enc_fold</th>\n",
       "    </tr>\n",
       "  </thead>\n",
       "  <tbody>\n",
       "    <tr>\n",
       "      <th>0</th>\n",
       "      <td>5198.067050</td>\n",
       "      <td>2348.354635</td>\n",
       "      <td>5407.056914</td>\n",
       "      <td>2291.917796</td>\n",
       "    </tr>\n",
       "    <tr>\n",
       "      <th>1</th>\n",
       "      <td>862.211000</td>\n",
       "      <td>1995.498739</td>\n",
       "      <td>862.211000</td>\n",
       "      <td>1995.498739</td>\n",
       "    </tr>\n",
       "    <tr>\n",
       "      <th>2</th>\n",
       "      <td>1478.076000</td>\n",
       "      <td>2348.354635</td>\n",
       "      <td>1468.089000</td>\n",
       "      <td>2291.917796</td>\n",
       "    </tr>\n",
       "    <tr>\n",
       "      <th>3</th>\n",
       "      <td>3021.067500</td>\n",
       "      <td>339.351662</td>\n",
       "      <td>3021.067500</td>\n",
       "      <td>339.351662</td>\n",
       "    </tr>\n",
       "    <tr>\n",
       "      <th>4</th>\n",
       "      <td>653.926567</td>\n",
       "      <td>2298.995256</td>\n",
       "      <td>653.926567</td>\n",
       "      <td>2298.995256</td>\n",
       "    </tr>\n",
       "  </tbody>\n",
       "</table>\n",
       "</div>"
      ],
      "text/plain": [
       "   Item_Identifier_mean_enc  Outlet_Identifier_mean_enc  \\\n",
       "0               5198.067050                 2348.354635   \n",
       "1                862.211000                 1995.498739   \n",
       "2               1478.076000                 2348.354635   \n",
       "3               3021.067500                  339.351662   \n",
       "4                653.926567                 2298.995256   \n",
       "\n",
       "   Item_Identifier_mean_enc_fold  Outlet_Identifier_mean_enc_fold  \n",
       "0                    5407.056914                      2291.917796  \n",
       "1                     862.211000                      1995.498739  \n",
       "2                    1468.089000                      2291.917796  \n",
       "3                    3021.067500                       339.351662  \n",
       "4                     653.926567                      2298.995256  "
      ]
     },
     "execution_count": 144,
     "metadata": {},
     "output_type": "execute_result"
    }
   ],
   "source": [
    "# generate dataframe for target encoded features for the train and test dataset\n",
    "target_enc_df = pd.concat([train_target_enc_df_1, test_target_enc_df_1])\n",
    "target_enc_df.head()"
   ]
  },
  {
   "cell_type": "code",
   "execution_count": 145,
   "metadata": {
    "collapsed": true
   },
   "outputs": [],
   "source": [
    "data = pd.concat([data,target_enc_df],axis=1)"
   ]
  },
  {
   "cell_type": "markdown",
   "metadata": {},
   "source": [
    "** Features Set 7: Clustering Based Features **"
   ]
  },
  {
   "cell_type": "code",
   "execution_count": 146,
   "metadata": {
    "collapsed": true
   },
   "outputs": [],
   "source": [
    "cluster_columns = ['Item_MRP','Item_Visibility_Imputed','Item_Weight_Imputed']"
   ]
  },
  {
   "cell_type": "code",
   "execution_count": 147,
   "metadata": {
    "collapsed": true
   },
   "outputs": [],
   "source": [
    "from sklearn import preprocessing\n",
    "scaler = preprocessing.MaxAbsScaler()\n",
    "\n",
    "sales_clusters = scaler.fit_transform(data[cluster_columns])\n",
    "sales_clusters = pd.DataFrame(sales_clusters, columns=cluster_columns)"
   ]
  },
  {
   "cell_type": "code",
   "execution_count": 148,
   "metadata": {
    "collapsed": true
   },
   "outputs": [],
   "source": [
    "def k_mean_distance(df, cx, cy, i_centroid, cluster_labels):\n",
    "        distances = [np.sqrt((x-cx)**2+(y-cy)**2) for (x, y) in df[cluster_labels == i_centroid]]\n",
    "        return np.mean(distances)"
   ]
  },
  {
   "cell_type": "code",
   "execution_count": 149,
   "metadata": {
    "collapsed": true
   },
   "outputs": [],
   "source": [
    "from sklearn.cluster import KMeans\n",
    "\n",
    "def kmeans_cluster(df, n_clusters=2):\n",
    "    model = KMeans(n_clusters=n_clusters, random_state=1)\n",
    "    clusters = model.fit_predict(df)\n",
    "    centroids = model.cluster_centers_\n",
    "    cluster_results = df.copy()\n",
    "    cluster_results['Cluster'] = clusters\n",
    "    return cluster_results"
   ]
  },
  {
   "cell_type": "code",
   "execution_count": 150,
   "metadata": {
    "collapsed": true
   },
   "outputs": [],
   "source": [
    "def summarize_clustering(results):\n",
    "    cluster_size = results.groupby(['Cluster']).size().reset_index()\n",
    "    cluster_size.columns = ['Cluster', 'Count']\n",
    "    cluster_means = results.groupby(['Cluster'], as_index=False).mean()\n",
    "    cluster_summary = pd.merge(cluster_size, cluster_means, on='Cluster')\n",
    "    return cluster_summary"
   ]
  },
  {
   "cell_type": "code",
   "execution_count": 151,
   "metadata": {
    "collapsed": true
   },
   "outputs": [],
   "source": [
    "cluster_df = kmeans_cluster(sales_clusters, 3)\n",
    "cluster_summary = summarize_clustering(cluster_df)\n",
    "\n",
    "# Note - Yet to implement distance from centroid"
   ]
  },
  {
   "cell_type": "code",
   "execution_count": 152,
   "metadata": {},
   "outputs": [
    {
     "data": {
      "text/plain": [
       "<matplotlib.axes._subplots.AxesSubplot at 0x27e5b310278>"
      ]
     },
     "execution_count": 152,
     "metadata": {},
     "output_type": "execute_result"
    },
    {
     "data": {
      "image/png": "[encoded data removed]",
      "text/plain": [
       "<matplotlib.figure.Figure at 0x27e5b31bda0>"
      ]
     },
     "metadata": {},
     "output_type": "display_data"
    }
   ],
   "source": [
    "import matplotlib.pyplot as plt\n",
    "import seaborn as sns\n",
    "%matplotlib inline\n",
    "\n",
    "sns.heatmap(cluster_summary[cluster_columns].transpose(), annot=True)"
   ]
  },
  {
   "cell_type": "code",
   "execution_count": 153,
   "metadata": {
    "collapsed": true
   },
   "outputs": [],
   "source": [
    "cluster_df['ClusterName'] = ''\n",
    "cluster_df['ClusterName'][cluster_df['Cluster']==0] = 'Cluster-1'\n",
    "cluster_df['ClusterName'][cluster_df['Cluster']==1] = 'Cluster-2'\n",
    "cluster_df['ClusterName'][cluster_df['Cluster']==2] = 'Cluster-3'"
   ]
  },
  {
   "cell_type": "code",
   "execution_count": 154,
   "metadata": {},
   "outputs": [
    {
     "data": {
      "text/html": [
       "<div>\n",
       "<style scoped>\n",
       "    .dataframe tbody tr th:only-of-type {\n",
       "        vertical-align: middle;\n",
       "    }\n",
       "\n",
       "    .dataframe tbody tr th {\n",
       "        vertical-align: top;\n",
       "    }\n",
       "\n",
       "    .dataframe thead th {\n",
       "        text-align: right;\n",
       "    }\n",
       "</style>\n",
       "<table border=\"1\" class=\"dataframe\">\n",
       "  <thead>\n",
       "    <tr style=\"text-align: right;\">\n",
       "      <th></th>\n",
       "      <th>Item_MRP</th>\n",
       "      <th>Item_Visibility_Imputed</th>\n",
       "      <th>Item_Weight_Imputed</th>\n",
       "      <th>Cluster</th>\n",
       "      <th>ClusterName</th>\n",
       "    </tr>\n",
       "  </thead>\n",
       "  <tbody>\n",
       "    <tr>\n",
       "      <th>0</th>\n",
       "      <td>0.936006</td>\n",
       "      <td>0.048866</td>\n",
       "      <td>0.435597</td>\n",
       "      <td>1</td>\n",
       "      <td>Cluster-2</td>\n",
       "    </tr>\n",
       "    <tr>\n",
       "      <th>1</th>\n",
       "      <td>0.180859</td>\n",
       "      <td>0.058705</td>\n",
       "      <td>0.277283</td>\n",
       "      <td>2</td>\n",
       "      <td>Cluster-3</td>\n",
       "    </tr>\n",
       "    <tr>\n",
       "      <th>2</th>\n",
       "      <td>0.530626</td>\n",
       "      <td>0.051037</td>\n",
       "      <td>0.819672</td>\n",
       "      <td>0</td>\n",
       "      <td>Cluster-1</td>\n",
       "    </tr>\n",
       "    <tr>\n",
       "      <th>3</th>\n",
       "      <td>0.682289</td>\n",
       "      <td>0.054308</td>\n",
       "      <td>0.899297</td>\n",
       "      <td>0</td>\n",
       "      <td>Cluster-1</td>\n",
       "    </tr>\n",
       "    <tr>\n",
       "      <th>4</th>\n",
       "      <td>0.201812</td>\n",
       "      <td>0.029781</td>\n",
       "      <td>0.418267</td>\n",
       "      <td>2</td>\n",
       "      <td>Cluster-3</td>\n",
       "    </tr>\n",
       "  </tbody>\n",
       "</table>\n",
       "</div>"
      ],
      "text/plain": [
       "   Item_MRP  Item_Visibility_Imputed  Item_Weight_Imputed  Cluster ClusterName\n",
       "0  0.936006                 0.048866             0.435597        1   Cluster-2\n",
       "1  0.180859                 0.058705             0.277283        2   Cluster-3\n",
       "2  0.530626                 0.051037             0.819672        0   Cluster-1\n",
       "3  0.682289                 0.054308             0.899297        0   Cluster-1\n",
       "4  0.201812                 0.029781             0.418267        2   Cluster-3"
      ]
     },
     "execution_count": 154,
     "metadata": {},
     "output_type": "execute_result"
    }
   ],
   "source": [
    "cluster_df.head()"
   ]
  },
  {
   "cell_type": "code",
   "execution_count": 155,
   "metadata": {
    "collapsed": true
   },
   "outputs": [],
   "source": [
    "data = pd.concat([data,cluster_df['ClusterName']],axis=1)"
   ]
  },
  {
   "cell_type": "markdown",
   "metadata": {},
   "source": [
    "** Features Set 8 - Distance & Coordinate Based Features **"
   ]
  },
  {
   "cell_type": "code",
   "execution_count": 156,
   "metadata": {
    "collapsed": true
   },
   "outputs": [],
   "source": [
    "# KNN or any distance based features\n",
    "pass"
   ]
  },
  {
   "cell_type": "markdown",
   "metadata": {},
   "source": [
    "** Features set 9: Encoding Categorical Features **"
   ]
  },
  {
   "cell_type": "code",
   "execution_count": 157,
   "metadata": {
    "collapsed": true
   },
   "outputs": [],
   "source": [
    "cat_enc_df = pd.DataFrame()"
   ]
  },
  {
   "cell_type": "code",
   "execution_count": 158,
   "metadata": {},
   "outputs": [
    {
     "name": "stdout",
     "output_type": "stream",
     "text": [
      "['Item_Fat_Content', 'Item_Identifier', 'Item_Type', 'Outlet_Identifier', 'Outlet_Location_Type', 'Outlet_Size', 'Outlet_Type', 'source', 'Outlet_Size_Imputed', 'Outlet_Size_FillNA', 'Outlet_Size_NaN', 'Item_Weight_NaN', 'Item_Visibility_NaN', 'Item_Fat_Content_modified', 'Item_Type_Combined', 'PriceLevels', 'WeightLevels', 'VisibilityLevels', 'ClusterName']\n"
     ]
    }
   ],
   "source": [
    "print(list(data.select_dtypes(include=['object']).columns))"
   ]
  },
  {
   "cell_type": "code",
   "execution_count": 159,
   "metadata": {
    "collapsed": true
   },
   "outputs": [],
   "source": [
    "# 1 - Selecting specific columns for label encoding\n",
    "cat_cols_for_encoding = ['Outlet_Size_Imputed', 'Outlet_Size_FillNA', 'Outlet_Size_NaN', 'Item_Weight_NaN', \n",
    "                         'Item_Visibility_NaN', 'Item_Fat_Content_modified', 'Item_Type_Combined', \n",
    "                         'PriceLevels', 'WeightLevels', 'VisibilityLevels','ClusterName']"
   ]
  },
  {
   "cell_type": "code",
   "execution_count": 160,
   "metadata": {
    "collapsed": true
   },
   "outputs": [],
   "source": [
    "cat_pipe_1 = Pipeline([\n",
    "                        ('extract_features',ExtractColumns(cat_cols_for_encoding)),\n",
    "                        ('ordinal_enc',OrdinalEncoder()),\n",
    "                         #('binary_enc',BinaryEncoder()),\n",
    "                        #('dummy_enc',DummyTransformer()),\n",
    "                     ])"
   ]
  },
  {
   "cell_type": "code",
   "execution_count": 161,
   "metadata": {},
   "outputs": [
    {
     "data": {
      "text/html": [
       "<div>\n",
       "<style scoped>\n",
       "    .dataframe tbody tr th:only-of-type {\n",
       "        vertical-align: middle;\n",
       "    }\n",
       "\n",
       "    .dataframe tbody tr th {\n",
       "        vertical-align: top;\n",
       "    }\n",
       "\n",
       "    .dataframe thead th {\n",
       "        text-align: right;\n",
       "    }\n",
       "</style>\n",
       "<table border=\"1\" class=\"dataframe\">\n",
       "  <thead>\n",
       "    <tr style=\"text-align: right;\">\n",
       "      <th></th>\n",
       "      <th>Outlet_Size_Imputed_lb_enc</th>\n",
       "      <th>Outlet_Size_FillNA_lb_enc</th>\n",
       "      <th>Outlet_Size_NaN_lb_enc</th>\n",
       "      <th>Item_Weight_NaN_lb_enc</th>\n",
       "      <th>Item_Visibility_NaN_lb_enc</th>\n",
       "      <th>Item_Fat_Content_modified_lb_enc</th>\n",
       "      <th>Item_Type_Combined_lb_enc</th>\n",
       "      <th>PriceLevels_lb_enc</th>\n",
       "      <th>WeightLevels_lb_enc</th>\n",
       "      <th>VisibilityLevels_lb_enc</th>\n",
       "      <th>ClusterName_lb_enc</th>\n",
       "    </tr>\n",
       "  </thead>\n",
       "  <tbody>\n",
       "    <tr>\n",
       "      <th>0</th>\n",
       "      <td>0</td>\n",
       "      <td>0</td>\n",
       "      <td>0</td>\n",
       "      <td>0</td>\n",
       "      <td>0</td>\n",
       "      <td>0</td>\n",
       "      <td>0</td>\n",
       "      <td>0</td>\n",
       "      <td>0</td>\n",
       "      <td>0</td>\n",
       "      <td>0</td>\n",
       "    </tr>\n",
       "    <tr>\n",
       "      <th>1</th>\n",
       "      <td>0</td>\n",
       "      <td>0</td>\n",
       "      <td>0</td>\n",
       "      <td>0</td>\n",
       "      <td>0</td>\n",
       "      <td>1</td>\n",
       "      <td>1</td>\n",
       "      <td>1</td>\n",
       "      <td>1</td>\n",
       "      <td>0</td>\n",
       "      <td>1</td>\n",
       "    </tr>\n",
       "    <tr>\n",
       "      <th>2</th>\n",
       "      <td>0</td>\n",
       "      <td>0</td>\n",
       "      <td>0</td>\n",
       "      <td>0</td>\n",
       "      <td>0</td>\n",
       "      <td>0</td>\n",
       "      <td>0</td>\n",
       "      <td>2</td>\n",
       "      <td>2</td>\n",
       "      <td>0</td>\n",
       "      <td>2</td>\n",
       "    </tr>\n",
       "    <tr>\n",
       "      <th>3</th>\n",
       "      <td>1</td>\n",
       "      <td>1</td>\n",
       "      <td>1</td>\n",
       "      <td>0</td>\n",
       "      <td>1</td>\n",
       "      <td>1</td>\n",
       "      <td>0</td>\n",
       "      <td>3</td>\n",
       "      <td>3</td>\n",
       "      <td>0</td>\n",
       "      <td>2</td>\n",
       "    </tr>\n",
       "    <tr>\n",
       "      <th>4</th>\n",
       "      <td>2</td>\n",
       "      <td>2</td>\n",
       "      <td>0</td>\n",
       "      <td>0</td>\n",
       "      <td>1</td>\n",
       "      <td>2</td>\n",
       "      <td>2</td>\n",
       "      <td>1</td>\n",
       "      <td>0</td>\n",
       "      <td>0</td>\n",
       "      <td>1</td>\n",
       "    </tr>\n",
       "  </tbody>\n",
       "</table>\n",
       "</div>"
      ],
      "text/plain": [
       "   Outlet_Size_Imputed_lb_enc  Outlet_Size_FillNA_lb_enc  \\\n",
       "0                           0                          0   \n",
       "1                           0                          0   \n",
       "2                           0                          0   \n",
       "3                           1                          1   \n",
       "4                           2                          2   \n",
       "\n",
       "   Outlet_Size_NaN_lb_enc  Item_Weight_NaN_lb_enc  Item_Visibility_NaN_lb_enc  \\\n",
       "0                       0                       0                           0   \n",
       "1                       0                       0                           0   \n",
       "2                       0                       0                           0   \n",
       "3                       1                       0                           1   \n",
       "4                       0                       0                           1   \n",
       "\n",
       "   Item_Fat_Content_modified_lb_enc  Item_Type_Combined_lb_enc  \\\n",
       "0                                 0                          0   \n",
       "1                                 1                          1   \n",
       "2                                 0                          0   \n",
       "3                                 1                          0   \n",
       "4                                 2                          2   \n",
       "\n",
       "   PriceLevels_lb_enc  WeightLevels_lb_enc  VisibilityLevels_lb_enc  \\\n",
       "0                   0                    0                        0   \n",
       "1                   1                    1                        0   \n",
       "2                   2                    2                        0   \n",
       "3                   3                    3                        0   \n",
       "4                   1                    0                        0   \n",
       "\n",
       "   ClusterName_lb_enc  \n",
       "0                   0  \n",
       "1                   1  \n",
       "2                   2  \n",
       "3                   2  \n",
       "4                   1  "
      ]
     },
     "execution_count": 161,
     "metadata": {},
     "output_type": "execute_result"
    }
   ],
   "source": [
    "cat_enc_df = cat_pipe_1.fit_transform(data)\n",
    "cat_enc_df.rename(columns=lambda x: x + '_lb_enc', inplace=True)\n",
    "cat_enc_df.head()"
   ]
  },
  {
   "cell_type": "code",
   "execution_count": 162,
   "metadata": {},
   "outputs": [
    {
     "data": {
      "text/html": [
       "<div>\n",
       "<style scoped>\n",
       "    .dataframe tbody tr th:only-of-type {\n",
       "        vertical-align: middle;\n",
       "    }\n",
       "\n",
       "    .dataframe tbody tr th {\n",
       "        vertical-align: top;\n",
       "    }\n",
       "\n",
       "    .dataframe thead th {\n",
       "        text-align: right;\n",
       "    }\n",
       "</style>\n",
       "<table border=\"1\" class=\"dataframe\">\n",
       "  <thead>\n",
       "    <tr style=\"text-align: right;\">\n",
       "      <th></th>\n",
       "      <th>Item_Identifier_freq</th>\n",
       "      <th>Outlet_Identifier_freq</th>\n",
       "      <th>Outlet_Type_freq</th>\n",
       "    </tr>\n",
       "  </thead>\n",
       "  <tbody>\n",
       "    <tr>\n",
       "      <th>0</th>\n",
       "      <td>8</td>\n",
       "      <td>930</td>\n",
       "      <td>5577</td>\n",
       "    </tr>\n",
       "    <tr>\n",
       "      <th>1</th>\n",
       "      <td>6</td>\n",
       "      <td>928</td>\n",
       "      <td>928</td>\n",
       "    </tr>\n",
       "    <tr>\n",
       "      <th>2</th>\n",
       "      <td>7</td>\n",
       "      <td>930</td>\n",
       "      <td>5577</td>\n",
       "    </tr>\n",
       "    <tr>\n",
       "      <th>3</th>\n",
       "      <td>6</td>\n",
       "      <td>555</td>\n",
       "      <td>1083</td>\n",
       "    </tr>\n",
       "    <tr>\n",
       "      <th>4</th>\n",
       "      <td>6</td>\n",
       "      <td>932</td>\n",
       "      <td>5577</td>\n",
       "    </tr>\n",
       "  </tbody>\n",
       "</table>\n",
       "</div>"
      ],
      "text/plain": [
       "   Item_Identifier_freq  Outlet_Identifier_freq  Outlet_Type_freq\n",
       "0                     8                     930              5577\n",
       "1                     6                     928               928\n",
       "2                     7                     930              5577\n",
       "3                     6                     555              1083\n",
       "4                     6                     932              5577"
      ]
     },
     "execution_count": 162,
     "metadata": {},
     "output_type": "execute_result"
    }
   ],
   "source": [
    "# 2 - Frequency encoding of categorical features\n",
    "cat_freq_enc_cols=['Item_Identifier','Outlet_Identifier','Outlet_Type']\n",
    "train_freq_df = data[data['source']=='train'][cat_freq_enc_cols]\n",
    "test_freq_df = data[data['source']=='test'][cat_freq_enc_cols]\n",
    "\n",
    "# loop through each feature column to do this\n",
    "for col in cat_freq_enc_cols:\n",
    "    # capture the frequency of a feature in the training set\n",
    "    col_freq=col+'_freq'\n",
    "    freq=train_freq_df[col].value_counts()\n",
    "    \n",
    "    # Map the frequency to the appropriate column\n",
    "    train_freq_df[col_freq] = train_freq_df[col].map(freq)\n",
    "    test_freq_df[col_freq] = test_freq_df[col].map(freq)\n",
    "\n",
    "    test_freq_df.fillna(0, inplace=True)\n",
    "# generate dataframe for frequency features for the train and test dataset\n",
    "\n",
    "cat_enc_feats = pd.concat([train_freq_df, test_freq_df],ignore_index=True)\n",
    "cat_enc_feats = cat_enc_feats.iloc[:,len(cat_freq_enc_cols):]\n",
    "cat_enc_feats.head()"
   ]
  },
  {
   "cell_type": "code",
   "execution_count": 163,
   "metadata": {
    "collapsed": true
   },
   "outputs": [],
   "source": [
    "cat_enc_df = pd.concat([cat_enc_df,cat_enc_feats],axis=1)"
   ]
  },
  {
   "cell_type": "code",
   "execution_count": 164,
   "metadata": {},
   "outputs": [
    {
     "data": {
      "text/html": [
       "<div>\n",
       "<style scoped>\n",
       "    .dataframe tbody tr th:only-of-type {\n",
       "        vertical-align: middle;\n",
       "    }\n",
       "\n",
       "    .dataframe tbody tr th {\n",
       "        vertical-align: top;\n",
       "    }\n",
       "\n",
       "    .dataframe thead th {\n",
       "        text-align: right;\n",
       "    }\n",
       "</style>\n",
       "<table border=\"1\" class=\"dataframe\">\n",
       "  <thead>\n",
       "    <tr style=\"text-align: right;\">\n",
       "      <th></th>\n",
       "      <th>Outlet_Size_Imputed_lb_enc</th>\n",
       "      <th>Outlet_Size_FillNA_lb_enc</th>\n",
       "      <th>Outlet_Size_NaN_lb_enc</th>\n",
       "      <th>Item_Weight_NaN_lb_enc</th>\n",
       "      <th>Item_Visibility_NaN_lb_enc</th>\n",
       "      <th>Item_Fat_Content_modified_lb_enc</th>\n",
       "      <th>Item_Type_Combined_lb_enc</th>\n",
       "      <th>PriceLevels_lb_enc</th>\n",
       "      <th>WeightLevels_lb_enc</th>\n",
       "      <th>VisibilityLevels_lb_enc</th>\n",
       "      <th>ClusterName_lb_enc</th>\n",
       "      <th>Item_Identifier_freq</th>\n",
       "      <th>Outlet_Identifier_freq</th>\n",
       "      <th>Outlet_Type_freq</th>\n",
       "    </tr>\n",
       "  </thead>\n",
       "  <tbody>\n",
       "    <tr>\n",
       "      <th>0</th>\n",
       "      <td>0</td>\n",
       "      <td>0</td>\n",
       "      <td>0</td>\n",
       "      <td>0</td>\n",
       "      <td>0</td>\n",
       "      <td>0</td>\n",
       "      <td>0</td>\n",
       "      <td>0</td>\n",
       "      <td>0</td>\n",
       "      <td>0</td>\n",
       "      <td>0</td>\n",
       "      <td>8</td>\n",
       "      <td>930</td>\n",
       "      <td>5577</td>\n",
       "    </tr>\n",
       "    <tr>\n",
       "      <th>1</th>\n",
       "      <td>0</td>\n",
       "      <td>0</td>\n",
       "      <td>0</td>\n",
       "      <td>0</td>\n",
       "      <td>0</td>\n",
       "      <td>1</td>\n",
       "      <td>1</td>\n",
       "      <td>1</td>\n",
       "      <td>1</td>\n",
       "      <td>0</td>\n",
       "      <td>1</td>\n",
       "      <td>6</td>\n",
       "      <td>928</td>\n",
       "      <td>928</td>\n",
       "    </tr>\n",
       "    <tr>\n",
       "      <th>2</th>\n",
       "      <td>0</td>\n",
       "      <td>0</td>\n",
       "      <td>0</td>\n",
       "      <td>0</td>\n",
       "      <td>0</td>\n",
       "      <td>0</td>\n",
       "      <td>0</td>\n",
       "      <td>2</td>\n",
       "      <td>2</td>\n",
       "      <td>0</td>\n",
       "      <td>2</td>\n",
       "      <td>7</td>\n",
       "      <td>930</td>\n",
       "      <td>5577</td>\n",
       "    </tr>\n",
       "    <tr>\n",
       "      <th>3</th>\n",
       "      <td>1</td>\n",
       "      <td>1</td>\n",
       "      <td>1</td>\n",
       "      <td>0</td>\n",
       "      <td>1</td>\n",
       "      <td>1</td>\n",
       "      <td>0</td>\n",
       "      <td>3</td>\n",
       "      <td>3</td>\n",
       "      <td>0</td>\n",
       "      <td>2</td>\n",
       "      <td>6</td>\n",
       "      <td>555</td>\n",
       "      <td>1083</td>\n",
       "    </tr>\n",
       "    <tr>\n",
       "      <th>4</th>\n",
       "      <td>2</td>\n",
       "      <td>2</td>\n",
       "      <td>0</td>\n",
       "      <td>0</td>\n",
       "      <td>1</td>\n",
       "      <td>2</td>\n",
       "      <td>2</td>\n",
       "      <td>1</td>\n",
       "      <td>0</td>\n",
       "      <td>0</td>\n",
       "      <td>1</td>\n",
       "      <td>6</td>\n",
       "      <td>932</td>\n",
       "      <td>5577</td>\n",
       "    </tr>\n",
       "  </tbody>\n",
       "</table>\n",
       "</div>"
      ],
      "text/plain": [
       "   Outlet_Size_Imputed_lb_enc  Outlet_Size_FillNA_lb_enc  \\\n",
       "0                           0                          0   \n",
       "1                           0                          0   \n",
       "2                           0                          0   \n",
       "3                           1                          1   \n",
       "4                           2                          2   \n",
       "\n",
       "   Outlet_Size_NaN_lb_enc  Item_Weight_NaN_lb_enc  Item_Visibility_NaN_lb_enc  \\\n",
       "0                       0                       0                           0   \n",
       "1                       0                       0                           0   \n",
       "2                       0                       0                           0   \n",
       "3                       1                       0                           1   \n",
       "4                       0                       0                           1   \n",
       "\n",
       "   Item_Fat_Content_modified_lb_enc  Item_Type_Combined_lb_enc  \\\n",
       "0                                 0                          0   \n",
       "1                                 1                          1   \n",
       "2                                 0                          0   \n",
       "3                                 1                          0   \n",
       "4                                 2                          2   \n",
       "\n",
       "   PriceLevels_lb_enc  WeightLevels_lb_enc  VisibilityLevels_lb_enc  \\\n",
       "0                   0                    0                        0   \n",
       "1                   1                    1                        0   \n",
       "2                   2                    2                        0   \n",
       "3                   3                    3                        0   \n",
       "4                   1                    0                        0   \n",
       "\n",
       "   ClusterName_lb_enc  Item_Identifier_freq  Outlet_Identifier_freq  \\\n",
       "0                   0                     8                     930   \n",
       "1                   1                     6                     928   \n",
       "2                   2                     7                     930   \n",
       "3                   2                     6                     555   \n",
       "4                   1                     6                     932   \n",
       "\n",
       "   Outlet_Type_freq  \n",
       "0              5577  \n",
       "1               928  \n",
       "2              5577  \n",
       "3              1083  \n",
       "4              5577  "
      ]
     },
     "execution_count": 164,
     "metadata": {},
     "output_type": "execute_result"
    }
   ],
   "source": [
    "cat_enc_df.head()"
   ]
  },
  {
   "cell_type": "code",
   "execution_count": 165,
   "metadata": {
    "collapsed": true
   },
   "outputs": [],
   "source": [
    "data = pd.concat([data,cat_enc_df],axis=1)"
   ]
  },
  {
   "cell_type": "markdown",
   "metadata": {},
   "source": [
    "** Feature Set 10: Transformation of Numerical Features **"
   ]
  },
  {
   "cell_type": "code",
   "execution_count": 166,
   "metadata": {
    "collapsed": true
   },
   "outputs": [],
   "source": [
    "num_transform_df = pd.DataFrame()"
   ]
  },
  {
   "cell_type": "code",
   "execution_count": 167,
   "metadata": {
    "collapsed": true
   },
   "outputs": [],
   "source": [
    "# Take a look at the numerical columns\n",
    "num_cols = list(data.select_dtypes(include=['float','int64']).columns)"
   ]
  },
  {
   "cell_type": "code",
   "execution_count": 168,
   "metadata": {
    "collapsed": true
   },
   "outputs": [],
   "source": [
    "#1 - Transformation of Numerical variables (ex: Scaler, Log Boxcox etc.)\n",
    "\n",
    "# num_cols = num_feats_1.columns  # All numerical columns\n",
    "# Selecting specific columns for encoding\n",
    "num_cols_for_scaling = ['Item_MRP_clipped']\n",
    "num_cols_for_tf = ['Item_Visibility_Imputed','Item_Weight_Imputed']"
   ]
  },
  {
   "cell_type": "code",
   "execution_count": 169,
   "metadata": {
    "collapsed": true
   },
   "outputs": [],
   "source": [
    "num_pipe_1 = Pipeline([\n",
    "            ('extract_features',ExtractColumns(num_cols_for_scaling)),\n",
    "            #('min_max_scaler',DFMinMaxScaler()),\n",
    "             ('std_scaler',DFStandardScaler()),        \n",
    "         ])"
   ]
  },
  {
   "cell_type": "code",
   "execution_count": 170,
   "metadata": {
    "collapsed": true
   },
   "outputs": [],
   "source": [
    "num_pipe_2 = Pipeline([\n",
    "            ('extract_features',ExtractColumns(num_cols_for_tf)),\n",
    "            ('log',DFFunctionTransformer(np.log1p)),\n",
    "            #('sqrt',DFFunctionTransformer(np.sqrt))\n",
    "         ])"
   ]
  },
  {
   "cell_type": "code",
   "execution_count": 171,
   "metadata": {
    "collapsed": true
   },
   "outputs": [],
   "source": [
    "num_feature_union = DFFeatureUnion([\n",
    "                           ('pipe_1',num_pipe_1),\n",
    "                           ('pipe_2',num_pipe_2),\n",
    "                           ])\n",
    "num_all_pipeline = Pipeline([('num_feats', num_feature_union)])\n",
    "num_transform_df = num_all_pipeline.fit_transform(data)"
   ]
  },
  {
   "cell_type": "code",
   "execution_count": 172,
   "metadata": {},
   "outputs": [
    {
     "data": {
      "text/html": [
       "<div>\n",
       "<style scoped>\n",
       "    .dataframe tbody tr th:only-of-type {\n",
       "        vertical-align: middle;\n",
       "    }\n",
       "\n",
       "    .dataframe tbody tr th {\n",
       "        vertical-align: top;\n",
       "    }\n",
       "\n",
       "    .dataframe thead th {\n",
       "        text-align: right;\n",
       "    }\n",
       "</style>\n",
       "<table border=\"1\" class=\"dataframe\">\n",
       "  <thead>\n",
       "    <tr style=\"text-align: right;\">\n",
       "      <th></th>\n",
       "      <th>Item_MRP_clipped_tf</th>\n",
       "      <th>Item_Visibility_Imputed_tf</th>\n",
       "      <th>Item_Weight_Imputed_tf</th>\n",
       "    </tr>\n",
       "  </thead>\n",
       "  <tbody>\n",
       "    <tr>\n",
       "      <th>0</th>\n",
       "      <td>1.754051</td>\n",
       "      <td>0.015920</td>\n",
       "      <td>2.332144</td>\n",
       "    </tr>\n",
       "    <tr>\n",
       "      <th>1</th>\n",
       "      <td>-1.494959</td>\n",
       "      <td>0.019095</td>\n",
       "      <td>1.934416</td>\n",
       "    </tr>\n",
       "    <tr>\n",
       "      <th>2</th>\n",
       "      <td>0.009910</td>\n",
       "      <td>0.016621</td>\n",
       "      <td>2.917771</td>\n",
       "    </tr>\n",
       "    <tr>\n",
       "      <th>3</th>\n",
       "      <td>0.662436</td>\n",
       "      <td>0.017677</td>\n",
       "      <td>3.005683</td>\n",
       "    </tr>\n",
       "    <tr>\n",
       "      <th>4</th>\n",
       "      <td>-1.404807</td>\n",
       "      <td>0.009732</td>\n",
       "      <td>2.295560</td>\n",
       "    </tr>\n",
       "  </tbody>\n",
       "</table>\n",
       "</div>"
      ],
      "text/plain": [
       "   Item_MRP_clipped_tf  Item_Visibility_Imputed_tf  Item_Weight_Imputed_tf\n",
       "0             1.754051                    0.015920                2.332144\n",
       "1            -1.494959                    0.019095                1.934416\n",
       "2             0.009910                    0.016621                2.917771\n",
       "3             0.662436                    0.017677                3.005683\n",
       "4            -1.404807                    0.009732                2.295560"
      ]
     },
     "execution_count": 172,
     "metadata": {},
     "output_type": "execute_result"
    }
   ],
   "source": [
    "num_transform_df.rename(columns=lambda x: x + '_tf', inplace=True)\n",
    "num_transform_df.head()"
   ]
  },
  {
   "cell_type": "code",
   "execution_count": 173,
   "metadata": {},
   "outputs": [
    {
     "data": {
      "text/html": [
       "<div>\n",
       "<style scoped>\n",
       "    .dataframe tbody tr th:only-of-type {\n",
       "        vertical-align: middle;\n",
       "    }\n",
       "\n",
       "    .dataframe tbody tr th {\n",
       "        vertical-align: top;\n",
       "    }\n",
       "\n",
       "    .dataframe thead th {\n",
       "        text-align: right;\n",
       "    }\n",
       "</style>\n",
       "<table border=\"1\" class=\"dataframe\">\n",
       "  <thead>\n",
       "    <tr style=\"text-align: right;\">\n",
       "      <th></th>\n",
       "      <th>count</th>\n",
       "      <th>mean</th>\n",
       "      <th>std</th>\n",
       "      <th>min</th>\n",
       "      <th>25%</th>\n",
       "      <th>50%</th>\n",
       "      <th>75%</th>\n",
       "      <th>max</th>\n",
       "    </tr>\n",
       "  </thead>\n",
       "  <tbody>\n",
       "    <tr>\n",
       "      <th>Item_MRP_clipped_tf</th>\n",
       "      <td>14204.0</td>\n",
       "      <td>-1.550748e-17</td>\n",
       "      <td>1.000035</td>\n",
       "      <td>-1.704278</td>\n",
       "      <td>-0.757543</td>\n",
       "      <td>0.020050</td>\n",
       "      <td>0.723061</td>\n",
       "      <td>1.962819</td>\n",
       "    </tr>\n",
       "    <tr>\n",
       "      <th>Item_Visibility_Imputed_tf</th>\n",
       "      <td>14204.0</td>\n",
       "      <td>6.634366e-02</td>\n",
       "      <td>0.045305</td>\n",
       "      <td>0.003568</td>\n",
       "      <td>0.030670</td>\n",
       "      <td>0.055618</td>\n",
       "      <td>0.092516</td>\n",
       "      <td>0.283968</td>\n",
       "    </tr>\n",
       "    <tr>\n",
       "      <th>Item_Weight_Imputed_tf</th>\n",
       "      <td>14204.0</td>\n",
       "      <td>2.562192e+00</td>\n",
       "      <td>0.361178</td>\n",
       "      <td>1.714698</td>\n",
       "      <td>2.273156</td>\n",
       "      <td>2.610070</td>\n",
       "      <td>2.876386</td>\n",
       "      <td>3.106826</td>\n",
       "    </tr>\n",
       "  </tbody>\n",
       "</table>\n",
       "</div>"
      ],
      "text/plain": [
       "                              count          mean       std       min  \\\n",
       "Item_MRP_clipped_tf         14204.0 -1.550748e-17  1.000035 -1.704278   \n",
       "Item_Visibility_Imputed_tf  14204.0  6.634366e-02  0.045305  0.003568   \n",
       "Item_Weight_Imputed_tf      14204.0  2.562192e+00  0.361178  1.714698   \n",
       "\n",
       "                                 25%       50%       75%       max  \n",
       "Item_MRP_clipped_tf        -0.757543  0.020050  0.723061  1.962819  \n",
       "Item_Visibility_Imputed_tf  0.030670  0.055618  0.092516  0.283968  \n",
       "Item_Weight_Imputed_tf      2.273156  2.610070  2.876386  3.106826  "
      ]
     },
     "execution_count": 173,
     "metadata": {},
     "output_type": "execute_result"
    }
   ],
   "source": [
    "num_transform_df.describe().T"
   ]
  },
  {
   "cell_type": "code",
   "execution_count": 174,
   "metadata": {
    "collapsed": true
   },
   "outputs": [],
   "source": [
    "data = pd.concat([data,num_transform_df],axis=1)"
   ]
  },
  {
   "cell_type": "markdown",
   "metadata": {},
   "source": [
    "** Feature Set 11: Dimensionality Reduction based Features **"
   ]
  },
  {
   "cell_type": "code",
   "execution_count": 175,
   "metadata": {},
   "outputs": [
    {
     "name": "stdout",
     "output_type": "stream",
     "text": [
      "Explained Variance: %s [0.47710208 0.27413478 0.18572855]\n"
     ]
    },
    {
     "data": {
      "image/png": "[encoded data removed]",
      "text/plain": [
       "<matplotlib.figure.Figure at 0x27e5d43f358>"
      ]
     },
     "metadata": {},
     "output_type": "display_data"
    }
   ],
   "source": [
    "# Techniques - PCA, SVD, NMF & Factorization Machines\n",
    "\n",
    "# PCA Implementation below\n",
    "if 1==1:\n",
    "    cols_for_dim_reduction = ['Outlet_Size_Imputed_lb_enc','Item_Fat_Content_modified_lb_enc','Item_Weight_Imputed_tf',\n",
    "                              'Item_MRP_clipped_tf','Item_Visibility_Imputed_tf']\n",
    "    \n",
    "    # PCA\n",
    "    n_components = 3\n",
    "    pca = PCA(n_components=n_components)\n",
    "    fit_pca = pca.fit(data[cols_for_dim_reduction])\n",
    "    varExp = fit_pca.explained_variance_ratio_\n",
    "    print(\"Explained Variance: %s\",fit_pca.explained_variance_ratio_)\n",
    "    #print(fit_pca.components_)\n",
    "    pca_df_train = pd.DataFrame(fit_pca.transform(data[data['source']=='train'][cols_for_dim_reduction]))\n",
    "    pca_df_test = pd.DataFrame(fit_pca.transform(data[data['source']=='test'][cols_for_dim_reduction]))\n",
    "    \n",
    "    cumVarExplained = []\n",
    "    nb_components = []\n",
    "    counter = 1\n",
    "    for i in varExp:\n",
    "        cumVarExplained.append(varExp[0:counter].sum())\n",
    "        nb_components.append(counter)\n",
    "        counter += 1\n",
    "\n",
    "    plt.subplots(figsize=(8, 6))\n",
    "    plt.plot(nb_components, cumVarExplained, 'bo-')\n",
    "    plt.ylabel('Cumulative Explained Variance')\n",
    "    plt.xlabel('Number of Components')\n",
    "    plt.ylim([0.0, 1.1])\n",
    "    plt.xticks(np.arange(1, len(nb_components), 1.0))\n",
    "    plt.yticks(np.arange(0.0, 1.1, 0.10))"
   ]
  },
  {
   "cell_type": "code",
   "execution_count": 176,
   "metadata": {
    "collapsed": true
   },
   "outputs": [],
   "source": [
    "pca_df = pd.DataFrame()\n",
    "pca_df = pd.concat([pca_df_train,pca_df_test])\n",
    "\n",
    "pca_cols=[]\n",
    "for i in range(n_components):\n",
    "    new_col = 'pca' + '_' + str(i+1)\n",
    "    pca_cols.append(new_col)\n",
    "    \n",
    "pca_df.columns = pca_cols\n",
    "pca_df = pca_df[~pca_df.index.duplicated(keep='first')]"
   ]
  },
  {
   "cell_type": "code",
   "execution_count": 177,
   "metadata": {},
   "outputs": [
    {
     "data": {
      "text/html": [
       "<div>\n",
       "<style scoped>\n",
       "    .dataframe tbody tr th:only-of-type {\n",
       "        vertical-align: middle;\n",
       "    }\n",
       "\n",
       "    .dataframe tbody tr th {\n",
       "        vertical-align: top;\n",
       "    }\n",
       "\n",
       "    .dataframe thead th {\n",
       "        text-align: right;\n",
       "    }\n",
       "</style>\n",
       "<table border=\"1\" class=\"dataframe\">\n",
       "  <thead>\n",
       "    <tr style=\"text-align: right;\">\n",
       "      <th></th>\n",
       "      <th>pca_1</th>\n",
       "      <th>pca_2</th>\n",
       "      <th>pca_3</th>\n",
       "    </tr>\n",
       "  </thead>\n",
       "  <tbody>\n",
       "    <tr>\n",
       "      <th>0</th>\n",
       "      <td>1.741497</td>\n",
       "      <td>-0.759029</td>\n",
       "      <td>-0.780953</td>\n",
       "    </tr>\n",
       "    <tr>\n",
       "      <th>1</th>\n",
       "      <td>-1.499466</td>\n",
       "      <td>0.274907</td>\n",
       "      <td>-0.781373</td>\n",
       "    </tr>\n",
       "    <tr>\n",
       "      <th>2</th>\n",
       "      <td>0.005386</td>\n",
       "      <td>-0.724442</td>\n",
       "      <td>-0.781842</td>\n",
       "    </tr>\n",
       "    <tr>\n",
       "      <th>3</th>\n",
       "      <td>0.671598</td>\n",
       "      <td>0.268986</td>\n",
       "      <td>0.217743</td>\n",
       "    </tr>\n",
       "    <tr>\n",
       "      <th>4</th>\n",
       "      <td>-1.392042</td>\n",
       "      <td>1.281675</td>\n",
       "      <td>1.217797</td>\n",
       "    </tr>\n",
       "  </tbody>\n",
       "</table>\n",
       "</div>"
      ],
      "text/plain": [
       "      pca_1     pca_2     pca_3\n",
       "0  1.741497 -0.759029 -0.780953\n",
       "1 -1.499466  0.274907 -0.781373\n",
       "2  0.005386 -0.724442 -0.781842\n",
       "3  0.671598  0.268986  0.217743\n",
       "4 -1.392042  1.281675  1.217797"
      ]
     },
     "execution_count": 177,
     "metadata": {},
     "output_type": "execute_result"
    }
   ],
   "source": [
    "pca_df.head()"
   ]
  },
  {
   "cell_type": "code",
   "execution_count": 178,
   "metadata": {
    "collapsed": true
   },
   "outputs": [],
   "source": [
    "data = pd.concat([data,pca_df],axis=1,join_axes=[data.index])"
   ]
  },
  {
   "cell_type": "markdown",
   "metadata": {},
   "source": [
    "### Logical Point to Separate Train & Test "
   ]
  },
  {
   "cell_type": "code",
   "execution_count": 179,
   "metadata": {},
   "outputs": [
    {
     "data": {
      "text/html": [
       "<div>\n",
       "<style scoped>\n",
       "    .dataframe tbody tr th:only-of-type {\n",
       "        vertical-align: middle;\n",
       "    }\n",
       "\n",
       "    .dataframe tbody tr th {\n",
       "        vertical-align: top;\n",
       "    }\n",
       "\n",
       "    .dataframe thead th {\n",
       "        text-align: right;\n",
       "    }\n",
       "</style>\n",
       "<table border=\"1\" class=\"dataframe\">\n",
       "  <thead>\n",
       "    <tr style=\"text-align: right;\">\n",
       "      <th></th>\n",
       "      <th>Item_Fat_Content</th>\n",
       "      <th>Item_Identifier</th>\n",
       "      <th>Item_MRP</th>\n",
       "      <th>Item_Outlet_Sales</th>\n",
       "      <th>Item_Type</th>\n",
       "      <th>Item_Visibility</th>\n",
       "      <th>Item_Weight</th>\n",
       "      <th>Outlet_Establishment_Year</th>\n",
       "      <th>Outlet_Identifier</th>\n",
       "      <th>Outlet_Location_Type</th>\n",
       "      <th>...</th>\n",
       "      <th>ClusterName_lb_enc</th>\n",
       "      <th>Item_Identifier_freq</th>\n",
       "      <th>Outlet_Identifier_freq</th>\n",
       "      <th>Outlet_Type_freq</th>\n",
       "      <th>Item_MRP_clipped_tf</th>\n",
       "      <th>Item_Visibility_Imputed_tf</th>\n",
       "      <th>Item_Weight_Imputed_tf</th>\n",
       "      <th>pca_1</th>\n",
       "      <th>pca_2</th>\n",
       "      <th>pca_3</th>\n",
       "    </tr>\n",
       "  </thead>\n",
       "  <tbody>\n",
       "    <tr>\n",
       "      <th>0</th>\n",
       "      <td>Low Fat</td>\n",
       "      <td>FDA15</td>\n",
       "      <td>249.8092</td>\n",
       "      <td>3735.1380</td>\n",
       "      <td>Dairy</td>\n",
       "      <td>0.016047</td>\n",
       "      <td>9.30</td>\n",
       "      <td>1999</td>\n",
       "      <td>OUT049</td>\n",
       "      <td>Tier 1</td>\n",
       "      <td>...</td>\n",
       "      <td>0</td>\n",
       "      <td>8</td>\n",
       "      <td>930</td>\n",
       "      <td>5577</td>\n",
       "      <td>1.754051</td>\n",
       "      <td>0.015920</td>\n",
       "      <td>2.332144</td>\n",
       "      <td>1.741497</td>\n",
       "      <td>-0.759029</td>\n",
       "      <td>-0.780953</td>\n",
       "    </tr>\n",
       "    <tr>\n",
       "      <th>1</th>\n",
       "      <td>Regular</td>\n",
       "      <td>DRC01</td>\n",
       "      <td>48.2692</td>\n",
       "      <td>443.4228</td>\n",
       "      <td>Soft Drinks</td>\n",
       "      <td>0.019278</td>\n",
       "      <td>5.92</td>\n",
       "      <td>2009</td>\n",
       "      <td>OUT018</td>\n",
       "      <td>Tier 3</td>\n",
       "      <td>...</td>\n",
       "      <td>1</td>\n",
       "      <td>6</td>\n",
       "      <td>928</td>\n",
       "      <td>928</td>\n",
       "      <td>-1.494959</td>\n",
       "      <td>0.019095</td>\n",
       "      <td>1.934416</td>\n",
       "      <td>-1.499466</td>\n",
       "      <td>0.274907</td>\n",
       "      <td>-0.781373</td>\n",
       "    </tr>\n",
       "    <tr>\n",
       "      <th>2</th>\n",
       "      <td>Low Fat</td>\n",
       "      <td>FDN15</td>\n",
       "      <td>141.6180</td>\n",
       "      <td>2097.2700</td>\n",
       "      <td>Meat</td>\n",
       "      <td>0.016760</td>\n",
       "      <td>17.50</td>\n",
       "      <td>1999</td>\n",
       "      <td>OUT049</td>\n",
       "      <td>Tier 1</td>\n",
       "      <td>...</td>\n",
       "      <td>2</td>\n",
       "      <td>7</td>\n",
       "      <td>930</td>\n",
       "      <td>5577</td>\n",
       "      <td>0.009910</td>\n",
       "      <td>0.016621</td>\n",
       "      <td>2.917771</td>\n",
       "      <td>0.005386</td>\n",
       "      <td>-0.724442</td>\n",
       "      <td>-0.781842</td>\n",
       "    </tr>\n",
       "    <tr>\n",
       "      <th>3</th>\n",
       "      <td>Regular</td>\n",
       "      <td>FDX07</td>\n",
       "      <td>182.0950</td>\n",
       "      <td>732.3800</td>\n",
       "      <td>Fruits and Vegetables</td>\n",
       "      <td>0.000000</td>\n",
       "      <td>19.20</td>\n",
       "      <td>1998</td>\n",
       "      <td>OUT010</td>\n",
       "      <td>Tier 3</td>\n",
       "      <td>...</td>\n",
       "      <td>2</td>\n",
       "      <td>6</td>\n",
       "      <td>555</td>\n",
       "      <td>1083</td>\n",
       "      <td>0.662436</td>\n",
       "      <td>0.017677</td>\n",
       "      <td>3.005683</td>\n",
       "      <td>0.671598</td>\n",
       "      <td>0.268986</td>\n",
       "      <td>0.217743</td>\n",
       "    </tr>\n",
       "    <tr>\n",
       "      <th>4</th>\n",
       "      <td>Low Fat</td>\n",
       "      <td>NCD19</td>\n",
       "      <td>53.8614</td>\n",
       "      <td>994.7052</td>\n",
       "      <td>Household</td>\n",
       "      <td>0.000000</td>\n",
       "      <td>8.93</td>\n",
       "      <td>1987</td>\n",
       "      <td>OUT013</td>\n",
       "      <td>Tier 3</td>\n",
       "      <td>...</td>\n",
       "      <td>1</td>\n",
       "      <td>6</td>\n",
       "      <td>932</td>\n",
       "      <td>5577</td>\n",
       "      <td>-1.404807</td>\n",
       "      <td>0.009732</td>\n",
       "      <td>2.295560</td>\n",
       "      <td>-1.392042</td>\n",
       "      <td>1.281675</td>\n",
       "      <td>1.217797</td>\n",
       "    </tr>\n",
       "  </tbody>\n",
       "</table>\n",
       "<p>5 rows × 62 columns</p>\n",
       "</div>"
      ],
      "text/plain": [
       "  Item_Fat_Content Item_Identifier  Item_MRP  Item_Outlet_Sales  \\\n",
       "0          Low Fat           FDA15  249.8092          3735.1380   \n",
       "1          Regular           DRC01   48.2692           443.4228   \n",
       "2          Low Fat           FDN15  141.6180          2097.2700   \n",
       "3          Regular           FDX07  182.0950           732.3800   \n",
       "4          Low Fat           NCD19   53.8614           994.7052   \n",
       "\n",
       "               Item_Type  Item_Visibility  Item_Weight  \\\n",
       "0                  Dairy         0.016047         9.30   \n",
       "1            Soft Drinks         0.019278         5.92   \n",
       "2                   Meat         0.016760        17.50   \n",
       "3  Fruits and Vegetables         0.000000        19.20   \n",
       "4              Household         0.000000         8.93   \n",
       "\n",
       "   Outlet_Establishment_Year Outlet_Identifier Outlet_Location_Type    ...     \\\n",
       "0                       1999            OUT049               Tier 1    ...      \n",
       "1                       2009            OUT018               Tier 3    ...      \n",
       "2                       1999            OUT049               Tier 1    ...      \n",
       "3                       1998            OUT010               Tier 3    ...      \n",
       "4                       1987            OUT013               Tier 3    ...      \n",
       "\n",
       "  ClusterName_lb_enc Item_Identifier_freq Outlet_Identifier_freq  \\\n",
       "0                  0                    8                    930   \n",
       "1                  1                    6                    928   \n",
       "2                  2                    7                    930   \n",
       "3                  2                    6                    555   \n",
       "4                  1                    6                    932   \n",
       "\n",
       "  Outlet_Type_freq Item_MRP_clipped_tf Item_Visibility_Imputed_tf  \\\n",
       "0             5577            1.754051                   0.015920   \n",
       "1              928           -1.494959                   0.019095   \n",
       "2             5577            0.009910                   0.016621   \n",
       "3             1083            0.662436                   0.017677   \n",
       "4             5577           -1.404807                   0.009732   \n",
       "\n",
       "   Item_Weight_Imputed_tf     pca_1     pca_2     pca_3  \n",
       "0                2.332144  1.741497 -0.759029 -0.780953  \n",
       "1                1.934416 -1.499466  0.274907 -0.781373  \n",
       "2                2.917771  0.005386 -0.724442 -0.781842  \n",
       "3                3.005683  0.671598  0.268986  0.217743  \n",
       "4                2.295560 -1.392042  1.281675  1.217797  \n",
       "\n",
       "[5 rows x 62 columns]"
      ]
     },
     "execution_count": 179,
     "metadata": {},
     "output_type": "execute_result"
    }
   ],
   "source": [
    "data.head()"
   ]
  },
  {
   "cell_type": "code",
   "execution_count": 180,
   "metadata": {
    "collapsed": true
   },
   "outputs": [],
   "source": [
    "train_feats = data[data['source']=='train']\n",
    "test_feats = data[data['source']=='test']"
   ]
  },
  {
   "cell_type": "code",
   "execution_count": 181,
   "metadata": {},
   "outputs": [
    {
     "name": "stdout",
     "output_type": "stream",
     "text": [
      "(8523, 62) (5681, 62) (14204, 62)\n"
     ]
    }
   ],
   "source": [
    "print (train_feats.shape, test_feats.shape, data.shape)"
   ]
  },
  {
   "cell_type": "code",
   "execution_count": 182,
   "metadata": {},
   "outputs": [
    {
     "name": "stdout",
     "output_type": "stream",
     "text": [
      "Stored 'train_feats' (DataFrame)\n",
      "Stored 'test_feats' (DataFrame)\n",
      "Stored 'target_df' (DataFrame)\n"
     ]
    }
   ],
   "source": [
    "%store train_feats\n",
    "%store test_feats\n",
    "%store target_df"
   ]
  }
 ],
 "metadata": {
  "anaconda-cloud": {},
  "kernelspec": {
   "display_name": "Python [Root]",
   "language": "python",
   "name": "Python [Root]"
  },
  "language_info": {
   "codemirror_mode": {
    "name": "ipython",
    "version": 3
   },
   "file_extension": ".py",
   "mimetype": "text/x-python",
   "name": "python",
   "nbconvert_exporter": "python",
   "pygments_lexer": "ipython3",
   "version": "3.5.2"
  }
 },
 "nbformat": 4,
 "nbformat_minor": 2
}
